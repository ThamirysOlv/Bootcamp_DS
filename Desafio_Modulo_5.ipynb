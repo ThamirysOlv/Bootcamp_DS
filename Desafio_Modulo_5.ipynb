{
 "cells": [
  {
   "cell_type": "markdown",
   "metadata": {},
   "source": [
    "# Previsão de necessidade de tratamento em UTI através de modelos de machine learning\n",
    "\n",
    "Thamirys de Oliveira\n",
    "\n",
    "thamirysolv01@gmail.com"
   ]
  },
  {
   "cell_type": "markdown",
   "metadata": {},
   "source": [
    "# Introdução"
   ]
  },
  {
   "cell_type": "markdown",
   "metadata": {},
   "source": [
    "A COVID-19, doença causada pelo vírus SARS-COV-2, afeta todo o planeta desde o ano de 2019. Altas taxas de transmissão do vírus podem causar o colapso do sistema de saúde através, entre outro modos, da falta de leitos de UTI disponíveis para a população, o que pode gerar filas [[1]](https://g1.globo.com/bemestar/coronavirus/noticia/2021/03/20/mortes-na-fila-por-um-leito-de-uti-falta-de-insumos-e-funerarias-sem-ferias-os-sinais-do-colapso-na-saude-brasileira.ghtml). Prever se um paciente que der entrada no hospital precisará de atendimento em UTI ou não pode ser uma das formas de diminuir as chances de fila para leitos, pois assim, por exemplo, o hospital tem mais tempo para abrir novos leitos ou agendar a transferência do paciente para outro hospital com leitos disponíveis.\n",
    "\n",
    "Usando uma [base de dados](https://www.kaggle.com/S%C3%ADrio-Libanes/covid19) de internações por COVID-19 disponibilizada pelo hospital Sírio-Libanês e modelos de machine learning através da biblioteca scikit-learn [[2]](https://scikit-learn.org/stable/), neste projeto vamos gerar um modelo que possa prever se um paciente precisará de atendimento em UTI ou não. \n",
    "\n",
    "O projeto está dividido da seguinte maneira: \n",
    "- Primeiramente analisaremos a base de dados sem o uso de machine learning para tentar detectar algum padrão entre os pacientes que presisaram de atendimento de UTI;\n",
    "- Posteriormente, usando algoritmos de machine learning, selecionaremos o modelo com melhor performance através de dois métodos distintos para prever se um paciente precisará ou não de atendimento em UTI."
   ]
  },
  {
   "cell_type": "markdown",
   "metadata": {},
   "source": [
    "# Análise"
   ]
  },
  {
   "cell_type": "markdown",
   "metadata": {},
   "source": [
    "### Pacotes e funções"
   ]
  },
  {
   "cell_type": "markdown",
   "metadata": {},
   "source": [
    "Nesta seção estão os pacotes necessários para a realização da análise, bem como as funções criadas durante a análise."
   ]
  },
  {
   "cell_type": "code",
   "execution_count": 1,
   "metadata": {},
   "outputs": [],
   "source": [
    "import pandas as pd\n",
    "import seaborn as sns\n",
    "#sns.set(font_scale = 2)\n",
    "import matplotlib as mpl\n",
    "import numpy as np\n",
    "import matplotlib.pyplot as plt\n",
    "plt.style.use('default')\n",
    "#mpl.rcParams['font.size'] = 16\n",
    "mpl.rcParams['figure.figsize'] = (10,6)\n",
    "mpl.rcParams['axes.labelsize'] = 14\n",
    "mpl.rcParams['axes.titlesize'] = 14\n",
    "import matplotlib.ticker as ticker\n",
    "import matplotlib.patches as mpatches\n",
    "\n",
    "from scipy.stats import randint\n",
    "\n",
    "import warnings\n",
    "warnings.filterwarnings(\"ignore\")"
   ]
  },
  {
   "cell_type": "code",
   "execution_count": 2,
   "metadata": {},
   "outputs": [],
   "source": [
    "from sklearn.model_selection import train_test_split, cross_validate, RepeatedStratifiedKFold, StratifiedKFold, RandomizedSearchCV, GridSearchCV\n",
    "from sklearn.metrics import accuracy_score, plot_confusion_matrix\n",
    "from sklearn.dummy import DummyClassifier\n",
    "from sklearn.linear_model import LogisticRegression\n",
    "from sklearn.svm import SVC, LinearSVC\n",
    "from sklearn.tree import DecisionTreeClassifier\n",
    "from sklearn.ensemble import RandomForestClassifier\n",
    "from sklearn.gaussian_process import GaussianProcessClassifier\n",
    "from sklearn.neighbors import KNeighborsClassifier\n",
    "from sklearn.feature_selection import RFECV"
   ]
  },
  {
   "cell_type": "code",
   "execution_count": 3,
   "metadata": {},
   "outputs": [],
   "source": [
    "def raw_data():\n",
    "    '''CARREGANDO BASE DE DADOS'''\n",
    "    raw_data = pd.read_excel('./Kaggle_Sirio_Libanes_ICU_Prediction.xlsx')\n",
    "    raw_data.loc[raw_data['AGE_PERCENTIL'] != 'Above 90th', 'AGE_PERCENTIL'] = raw_data.AGE_PERCENTIL.str.slice(0,2)\n",
    "    raw_data.loc[raw_data['AGE_PERCENTIL'] == 'Above 90th', 'AGE_PERCENTIL'] = '100'\n",
    "    raw_data.AGE_PERCENTIL = raw_data.AGE_PERCENTIL.astype(int)\n",
    "    \n",
    "    def fill_nan(dados):\n",
    "        features_continuas_colunas = dados.iloc[:, 13:-2].columns\n",
    "        features_continuas = dados.groupby(by=['PATIENT_VISIT_IDENTIFIER'], as_index=False)[features_continuas_colunas].fillna(method='bfill').fillna(method='ffill')\n",
    "\n",
    "        features_categoricas = dados.iloc[:, :13]\n",
    "        saida = dados.iloc[:, -2:]\n",
    "        dados_finais = pd.concat([features_categoricas, features_continuas, saida], ignore_index=True, axis=1)\n",
    "        dados_finais.columns = dados.columns\n",
    "        return dados_finais\n",
    "\n",
    "    raw_data = fill_nan(raw_data)\n",
    "    return raw_data\n",
    "\n",
    "def raw_data_grouped_id():\n",
    "    '''AGRUPANDO DADOS POR ID DO PACIENTE'''\n",
    "    return raw_data().groupby(by=['PATIENT_VISIT_IDENTIFIER'], as_index=False).max()\n",
    "\n",
    "def plot_internacoes():\n",
    "    '''PLOT INTERNAÇÕES POR IDADE, SEXO, E ICU'''\n",
    "    colormap=plt.get_cmap('tab10')\n",
    "    ax=sns.displot(x='AGE_PERCENTIL', hue='ICU', col='GENDER', \n",
    "        data=raw_data_grouped_id(), multiple='stack', palette = [colormap(0), colormap(1)], legend=False)\n",
    "    ax.set_axis_labels('Intervalo de idade', '#')\n",
    "    plt.legend(title = 'UTI', labels=['1', '0'])\n",
    "    ax.set_titles(size=12,col_template='Sexo = {col_name}')\n",
    "    ax.fig.subplots_adjust(top=0.85)\n",
    "    ax.fig.suptitle('Número de internações por intervalo de idade, sexo, e UTI', fontsize=14)\n",
    "    ax.set(xticks=range(14, 100, 18), xticklabels=list((\"10\",\"30\",\"50\",\"70\",\"90\")))\n",
    "\n",
    "def filtered_raw_data():\n",
    "    '''FILTRANDO DADOS PARA ANÁLISE COM MACHINE LEARNING'''\n",
    "    filter = raw_data().query(\"WINDOW=='0-2' and ICU==1\").PATIENT_VISIT_IDENTIFIER.values\n",
    "    filtered_raw_data = raw_data().query('PATIENT_VISIT_IDENTIFIER not in @filter')\n",
    "    def prepare_window(rows):\n",
    "        if(np.any(rows['ICU'])):\n",
    "            rows.loc[rows['WINDOW']=='0-2', 'ICU'] = 1\n",
    "        return rows.loc[rows['WINDOW']=='0-2']\n",
    "    filtered_raw_data = filtered_raw_data.groupby(by=['PATIENT_VISIT_IDENTIFIER'], as_index=False).apply(prepare_window)\n",
    "    filtered_raw_data = filtered_raw_data.dropna()\n",
    "    return filtered_raw_data\n",
    "\n",
    "def raw_model(model):\n",
    "    '''RODANDO MODELO COM PARÂMETROS DEFAULT E PLOTANDO MATRIZ DE CONFUSÃO'''\n",
    "    np.random.seed(5678)\n",
    "    model = model()\n",
    "    model.fit(x_train, y_train)\n",
    "    y_prediction=model.predict(x_test)\n",
    "    print(f'Taxa de acerto: {\"%.1f\" %(accuracy_score(y_test, y_prediction)*100)}%')\n",
    "\n",
    "    plot_confusion_matrix(model, x_test, y_test)\n",
    "\n",
    "def confusion_matrix_false_negative(icu_right_prediction, icu_wrong_prediction):\n",
    "    '''CALCULANDO A TAXA DE FALSO NEGATIVO PARA O MODELO'''\n",
    "    print(f'Taxa de falso negativo: {\"%.1f\" %((icu_wrong_prediction/(icu_right_prediction+icu_wrong_prediction))*100)}%')\n",
    "\n",
    "\n",
    "def cross_validate_raw_model(model, n_splits=5, n_repeats=10):\n",
    "    '''RODANDO MODELO COM PARÂMETROS DEFAULT E CROSS VALIDATE'''   \n",
    "    np.random.seed(5678)\n",
    "    \n",
    "    # embaralhando os dados:\n",
    "    dados_xy = filtered_raw_data().sample(frac=1).reset_index(drop=True)\n",
    "\n",
    "    y = dados_xy['ICU']\n",
    "    x = dados_xy[dados_xy.columns].drop(['ICU', 'WINDOW'], axis = 'columns')\n",
    "\n",
    "    model = model()\n",
    "    cv = RepeatedStratifiedKFold(n_splits=n_splits, n_repeats=n_repeats)\n",
    "    resultados = cross_validate(model, x, y, cv=cv, scoring='accuracy')['test_score']\n",
    "\n",
    "    acuracia_media = resultados.mean()\n",
    "    acuracia_std = resultados.std()\n",
    "    print(f'Acurácia média {\"%.1f\" %(acuracia_media*100)}%')\n",
    "    print(f'Intervalo de acurácia: {\"%.1f\" %((acuracia_media - 2*acuracia_std)*100)}% - {\"%.1f\" %((acuracia_media + 2*acuracia_std)*100)}%')\n",
    "\n",
    "def corr_selected_filtered_raw_data():\n",
    "    '''SELECIONANDO FEATURES ATRAVÉS DA CORRELAÇÃO'''\n",
    "    matrix_corr = filtered_raw_data().iloc[:,4:-2].corr()\n",
    "    upper_matrix = matrix_corr.where(np.triu(np.ones(matrix_corr.shape), k=1).astype(np.bool))\n",
    "    excluir = [coluna for coluna in upper_matrix.columns if any(upper_matrix[coluna] > 0.90)]\n",
    "    dados = filtered_raw_data().drop(excluir, axis='columns')\n",
    "    return dados\n",
    "\n",
    "def RFECV_selected_filtered_raw_data():\n",
    "    '''SELECIONANDO FEATURES ATRAVÉS DO RFECV'''\n",
    "    np.random.seed(5678)\n",
    "    model = RandomForestClassifier()\n",
    "    cv = StratifiedKFold(n_splits=5, shuffle=True)\n",
    "    selected_RFECV = RFECV(estimator=model, cv=cv, scoring='accuracy')\n",
    "    selected_RFECV.fit(x, y)\n",
    "    return selected_RFECV\n",
    "\n",
    "def plot_features(result):\n",
    "    '''PLOT SELEÇÃO DE FEATURES'''\n",
    "    colormap=plt.get_cmap('tab10')\n",
    "    plt.plot(range(1, len(result.cv_results_['mean_test_score']) + 1), result.cv_results_['mean_test_score'], color=colormap(0))\n",
    "    plt.plot(result.n_features_,result.cv_results_['mean_test_score'].max(), color=colormap(3), marker='o')\n",
    "    plt.vlines(x=result.n_features_, ymin=0.55, ymax=result.cv_results_['mean_test_score'].max(), color=colormap(3), linestyle='--', alpha=0.5)\n",
    "    plt.hlines(y=result.cv_results_['mean_test_score'].max(), xmin=0, xmax=result.n_features_, color=colormap(3), linestyle='--', alpha=0.5)\n",
    "    plt.grid()\n",
    "    plt.xlabel('# de features')\n",
    "    plt.ylabel('Acurácia')\n",
    "    plt.title('Acurácia pelo número de features selecionadas com RFECV', loc='left')\n",
    "    plt.xticks(range(0, len(result.cv_results_['mean_test_score']) + 1, 10))\n",
    "    plt.xlim(0,len(result.cv_results_['mean_test_score'])+1)\n",
    "    plt.ylim(0.55,0.80)\n"
   ]
  },
  {
   "cell_type": "markdown",
   "metadata": {},
   "source": [
    "### Base de dados"
   ]
  },
  {
   "cell_type": "markdown",
   "metadata": {},
   "source": [
    "A base de dados utilizada para esta análise pode ser encontrada em [kaggle: COVID-19 - Clinical data to assess diagnosis](https://www.kaggle.com/S%C3%ADrio-Libanes/covid19) e trata-se de dados obtidos do hospital Sírio-Libanês em São Paulo e em Brasília. Os dados foram disponibilizados limpos e normalizados."
   ]
  },
  {
   "cell_type": "markdown",
   "metadata": {},
   "source": [
    "Visualizando as primeiras cinco linhas do dataframe temos:"
   ]
  },
  {
   "cell_type": "code",
   "execution_count": 4,
   "metadata": {},
   "outputs": [
    {
     "data": {
      "text/html": [
       "<div>\n",
       "<style scoped>\n",
       "    .dataframe tbody tr th:only-of-type {\n",
       "        vertical-align: middle;\n",
       "    }\n",
       "\n",
       "    .dataframe tbody tr th {\n",
       "        vertical-align: top;\n",
       "    }\n",
       "\n",
       "    .dataframe thead th {\n",
       "        text-align: right;\n",
       "    }\n",
       "</style>\n",
       "<table border=\"1\" class=\"dataframe\">\n",
       "  <thead>\n",
       "    <tr style=\"text-align: right;\">\n",
       "      <th></th>\n",
       "      <th>PATIENT_VISIT_IDENTIFIER</th>\n",
       "      <th>AGE_ABOVE65</th>\n",
       "      <th>AGE_PERCENTIL</th>\n",
       "      <th>GENDER</th>\n",
       "      <th>DISEASE GROUPING 1</th>\n",
       "      <th>DISEASE GROUPING 2</th>\n",
       "      <th>DISEASE GROUPING 3</th>\n",
       "      <th>DISEASE GROUPING 4</th>\n",
       "      <th>DISEASE GROUPING 5</th>\n",
       "      <th>DISEASE GROUPING 6</th>\n",
       "      <th>...</th>\n",
       "      <th>TEMPERATURE_DIFF</th>\n",
       "      <th>OXYGEN_SATURATION_DIFF</th>\n",
       "      <th>BLOODPRESSURE_DIASTOLIC_DIFF_REL</th>\n",
       "      <th>BLOODPRESSURE_SISTOLIC_DIFF_REL</th>\n",
       "      <th>HEART_RATE_DIFF_REL</th>\n",
       "      <th>RESPIRATORY_RATE_DIFF_REL</th>\n",
       "      <th>TEMPERATURE_DIFF_REL</th>\n",
       "      <th>OXYGEN_SATURATION_DIFF_REL</th>\n",
       "      <th>WINDOW</th>\n",
       "      <th>ICU</th>\n",
       "    </tr>\n",
       "  </thead>\n",
       "  <tbody>\n",
       "    <tr>\n",
       "      <th>0</th>\n",
       "      <td>0</td>\n",
       "      <td>1</td>\n",
       "      <td>60</td>\n",
       "      <td>0</td>\n",
       "      <td>0.0</td>\n",
       "      <td>0.0</td>\n",
       "      <td>0.0</td>\n",
       "      <td>0.0</td>\n",
       "      <td>1.0</td>\n",
       "      <td>1.0</td>\n",
       "      <td>...</td>\n",
       "      <td>-1.000000</td>\n",
       "      <td>-1.000000</td>\n",
       "      <td>-1.000000</td>\n",
       "      <td>-1.000000</td>\n",
       "      <td>-1.000000</td>\n",
       "      <td>-1.000000</td>\n",
       "      <td>-1.000000</td>\n",
       "      <td>-1.000000</td>\n",
       "      <td>0-2</td>\n",
       "      <td>0</td>\n",
       "    </tr>\n",
       "    <tr>\n",
       "      <th>1</th>\n",
       "      <td>0</td>\n",
       "      <td>1</td>\n",
       "      <td>60</td>\n",
       "      <td>0</td>\n",
       "      <td>0.0</td>\n",
       "      <td>0.0</td>\n",
       "      <td>0.0</td>\n",
       "      <td>0.0</td>\n",
       "      <td>1.0</td>\n",
       "      <td>1.0</td>\n",
       "      <td>...</td>\n",
       "      <td>-1.000000</td>\n",
       "      <td>-1.000000</td>\n",
       "      <td>-1.000000</td>\n",
       "      <td>-1.000000</td>\n",
       "      <td>-1.000000</td>\n",
       "      <td>-1.000000</td>\n",
       "      <td>-1.000000</td>\n",
       "      <td>-1.000000</td>\n",
       "      <td>2-4</td>\n",
       "      <td>0</td>\n",
       "    </tr>\n",
       "    <tr>\n",
       "      <th>2</th>\n",
       "      <td>0</td>\n",
       "      <td>1</td>\n",
       "      <td>60</td>\n",
       "      <td>0</td>\n",
       "      <td>0.0</td>\n",
       "      <td>0.0</td>\n",
       "      <td>0.0</td>\n",
       "      <td>0.0</td>\n",
       "      <td>1.0</td>\n",
       "      <td>1.0</td>\n",
       "      <td>...</td>\n",
       "      <td>-1.000000</td>\n",
       "      <td>-1.000000</td>\n",
       "      <td>-0.389967</td>\n",
       "      <td>0.407558</td>\n",
       "      <td>-0.230462</td>\n",
       "      <td>0.096774</td>\n",
       "      <td>-1.000000</td>\n",
       "      <td>-1.000000</td>\n",
       "      <td>4-6</td>\n",
       "      <td>0</td>\n",
       "    </tr>\n",
       "    <tr>\n",
       "      <th>3</th>\n",
       "      <td>0</td>\n",
       "      <td>1</td>\n",
       "      <td>60</td>\n",
       "      <td>0</td>\n",
       "      <td>0.0</td>\n",
       "      <td>0.0</td>\n",
       "      <td>0.0</td>\n",
       "      <td>0.0</td>\n",
       "      <td>1.0</td>\n",
       "      <td>1.0</td>\n",
       "      <td>...</td>\n",
       "      <td>-1.000000</td>\n",
       "      <td>-1.000000</td>\n",
       "      <td>-0.389967</td>\n",
       "      <td>0.407558</td>\n",
       "      <td>-0.230462</td>\n",
       "      <td>0.096774</td>\n",
       "      <td>-1.000000</td>\n",
       "      <td>-1.000000</td>\n",
       "      <td>6-12</td>\n",
       "      <td>0</td>\n",
       "    </tr>\n",
       "    <tr>\n",
       "      <th>4</th>\n",
       "      <td>0</td>\n",
       "      <td>1</td>\n",
       "      <td>60</td>\n",
       "      <td>0</td>\n",
       "      <td>0.0</td>\n",
       "      <td>0.0</td>\n",
       "      <td>0.0</td>\n",
       "      <td>0.0</td>\n",
       "      <td>1.0</td>\n",
       "      <td>1.0</td>\n",
       "      <td>...</td>\n",
       "      <td>-0.238095</td>\n",
       "      <td>-0.818182</td>\n",
       "      <td>-0.389967</td>\n",
       "      <td>0.407558</td>\n",
       "      <td>-0.230462</td>\n",
       "      <td>0.096774</td>\n",
       "      <td>-0.242282</td>\n",
       "      <td>-0.814433</td>\n",
       "      <td>ABOVE_12</td>\n",
       "      <td>1</td>\n",
       "    </tr>\n",
       "  </tbody>\n",
       "</table>\n",
       "<p>5 rows × 231 columns</p>\n",
       "</div>"
      ],
      "text/plain": [
       "   PATIENT_VISIT_IDENTIFIER  AGE_ABOVE65  AGE_PERCENTIL  GENDER  \\\n",
       "0                         0            1             60       0   \n",
       "1                         0            1             60       0   \n",
       "2                         0            1             60       0   \n",
       "3                         0            1             60       0   \n",
       "4                         0            1             60       0   \n",
       "\n",
       "   DISEASE GROUPING 1  DISEASE GROUPING 2  DISEASE GROUPING 3  \\\n",
       "0                 0.0                 0.0                 0.0   \n",
       "1                 0.0                 0.0                 0.0   \n",
       "2                 0.0                 0.0                 0.0   \n",
       "3                 0.0                 0.0                 0.0   \n",
       "4                 0.0                 0.0                 0.0   \n",
       "\n",
       "   DISEASE GROUPING 4  DISEASE GROUPING 5  DISEASE GROUPING 6  ...  \\\n",
       "0                 0.0                 1.0                 1.0  ...   \n",
       "1                 0.0                 1.0                 1.0  ...   \n",
       "2                 0.0                 1.0                 1.0  ...   \n",
       "3                 0.0                 1.0                 1.0  ...   \n",
       "4                 0.0                 1.0                 1.0  ...   \n",
       "\n",
       "   TEMPERATURE_DIFF  OXYGEN_SATURATION_DIFF  BLOODPRESSURE_DIASTOLIC_DIFF_REL  \\\n",
       "0         -1.000000               -1.000000                         -1.000000   \n",
       "1         -1.000000               -1.000000                         -1.000000   \n",
       "2         -1.000000               -1.000000                         -0.389967   \n",
       "3         -1.000000               -1.000000                         -0.389967   \n",
       "4         -0.238095               -0.818182                         -0.389967   \n",
       "\n",
       "   BLOODPRESSURE_SISTOLIC_DIFF_REL  HEART_RATE_DIFF_REL  \\\n",
       "0                        -1.000000            -1.000000   \n",
       "1                        -1.000000            -1.000000   \n",
       "2                         0.407558            -0.230462   \n",
       "3                         0.407558            -0.230462   \n",
       "4                         0.407558            -0.230462   \n",
       "\n",
       "   RESPIRATORY_RATE_DIFF_REL  TEMPERATURE_DIFF_REL  \\\n",
       "0                  -1.000000             -1.000000   \n",
       "1                  -1.000000             -1.000000   \n",
       "2                   0.096774             -1.000000   \n",
       "3                   0.096774             -1.000000   \n",
       "4                   0.096774             -0.242282   \n",
       "\n",
       "   OXYGEN_SATURATION_DIFF_REL    WINDOW  ICU  \n",
       "0                   -1.000000       0-2    0  \n",
       "1                   -1.000000       2-4    0  \n",
       "2                   -1.000000       4-6    0  \n",
       "3                   -1.000000      6-12    0  \n",
       "4                   -0.814433  ABOVE_12    1  \n",
       "\n",
       "[5 rows x 231 columns]"
      ]
     },
     "execution_count": 4,
     "metadata": {},
     "output_type": "execute_result"
    }
   ],
   "source": [
    "raw_data().head()"
   ]
  },
  {
   "cell_type": "markdown",
   "metadata": {},
   "source": [
    "A função raw_data() carrega a base de dados, preenche os 'NaN' nas colunas com os resultados de exames com os valores previamente obtidos para cada paciente e transforma a coluna 'AGE_PERCENTIL' de string para int (idades 'Above 90th' foram transformadas em '100')."
   ]
  },
  {
   "cell_type": "markdown",
   "metadata": {},
   "source": [
    "Portanto, temos disponível neste dataframe um 'id' para cada paciente, se a idade do paciente é maior que 65 anos (1) ou não (0), a faixa de idade deste paciente (em intervalos de 10 anos), gênero, doenças previamente existentes, resultado dos exames feitos depois que o paciente deu entrada no hospital, a janela de horas depois da entrada no hospital para o resultado de cada exame (em intervalos de 2 horas), e se o paciente precisou dar entrada na UIT (1) ou não (0)."
   ]
  },
  {
   "cell_type": "markdown",
   "metadata": {},
   "source": [
    "Agrupando os dados por id do paciente:"
   ]
  },
  {
   "cell_type": "code",
   "execution_count": 5,
   "metadata": {},
   "outputs": [
    {
     "data": {
      "text/html": [
       "<div>\n",
       "<style scoped>\n",
       "    .dataframe tbody tr th:only-of-type {\n",
       "        vertical-align: middle;\n",
       "    }\n",
       "\n",
       "    .dataframe tbody tr th {\n",
       "        vertical-align: top;\n",
       "    }\n",
       "\n",
       "    .dataframe thead th {\n",
       "        text-align: right;\n",
       "    }\n",
       "</style>\n",
       "<table border=\"1\" class=\"dataframe\">\n",
       "  <thead>\n",
       "    <tr style=\"text-align: right;\">\n",
       "      <th></th>\n",
       "      <th>PATIENT_VISIT_IDENTIFIER</th>\n",
       "      <th>AGE_ABOVE65</th>\n",
       "      <th>AGE_PERCENTIL</th>\n",
       "      <th>GENDER</th>\n",
       "      <th>DISEASE GROUPING 1</th>\n",
       "      <th>DISEASE GROUPING 2</th>\n",
       "      <th>DISEASE GROUPING 3</th>\n",
       "      <th>DISEASE GROUPING 4</th>\n",
       "      <th>DISEASE GROUPING 5</th>\n",
       "      <th>DISEASE GROUPING 6</th>\n",
       "      <th>...</th>\n",
       "      <th>TEMPERATURE_DIFF</th>\n",
       "      <th>OXYGEN_SATURATION_DIFF</th>\n",
       "      <th>BLOODPRESSURE_DIASTOLIC_DIFF_REL</th>\n",
       "      <th>BLOODPRESSURE_SISTOLIC_DIFF_REL</th>\n",
       "      <th>HEART_RATE_DIFF_REL</th>\n",
       "      <th>RESPIRATORY_RATE_DIFF_REL</th>\n",
       "      <th>TEMPERATURE_DIFF_REL</th>\n",
       "      <th>OXYGEN_SATURATION_DIFF_REL</th>\n",
       "      <th>WINDOW</th>\n",
       "      <th>ICU</th>\n",
       "    </tr>\n",
       "  </thead>\n",
       "  <tbody>\n",
       "    <tr>\n",
       "      <th>0</th>\n",
       "      <td>0</td>\n",
       "      <td>1</td>\n",
       "      <td>60</td>\n",
       "      <td>0</td>\n",
       "      <td>0.0</td>\n",
       "      <td>0.0</td>\n",
       "      <td>0.0</td>\n",
       "      <td>0.0</td>\n",
       "      <td>1.0</td>\n",
       "      <td>1.0</td>\n",
       "      <td>...</td>\n",
       "      <td>-0.238095</td>\n",
       "      <td>-0.818182</td>\n",
       "      <td>-0.389967</td>\n",
       "      <td>0.407558</td>\n",
       "      <td>-0.230462</td>\n",
       "      <td>0.096774</td>\n",
       "      <td>-0.242282</td>\n",
       "      <td>-0.814433</td>\n",
       "      <td>ABOVE_12</td>\n",
       "      <td>1</td>\n",
       "    </tr>\n",
       "    <tr>\n",
       "      <th>1</th>\n",
       "      <td>1</td>\n",
       "      <td>1</td>\n",
       "      <td>90</td>\n",
       "      <td>1</td>\n",
       "      <td>0.0</td>\n",
       "      <td>0.0</td>\n",
       "      <td>0.0</td>\n",
       "      <td>0.0</td>\n",
       "      <td>1.0</td>\n",
       "      <td>0.0</td>\n",
       "      <td>...</td>\n",
       "      <td>0.142857</td>\n",
       "      <td>-0.797980</td>\n",
       "      <td>0.315690</td>\n",
       "      <td>0.200359</td>\n",
       "      <td>-0.239515</td>\n",
       "      <td>0.645161</td>\n",
       "      <td>0.139709</td>\n",
       "      <td>-0.802317</td>\n",
       "      <td>ABOVE_12</td>\n",
       "      <td>1</td>\n",
       "    </tr>\n",
       "    <tr>\n",
       "      <th>2</th>\n",
       "      <td>2</td>\n",
       "      <td>0</td>\n",
       "      <td>10</td>\n",
       "      <td>0</td>\n",
       "      <td>0.0</td>\n",
       "      <td>0.0</td>\n",
       "      <td>0.0</td>\n",
       "      <td>0.0</td>\n",
       "      <td>0.0</td>\n",
       "      <td>0.0</td>\n",
       "      <td>...</td>\n",
       "      <td>-0.500000</td>\n",
       "      <td>-0.797980</td>\n",
       "      <td>-0.515528</td>\n",
       "      <td>-0.343258</td>\n",
       "      <td>-0.576744</td>\n",
       "      <td>-0.695341</td>\n",
       "      <td>-0.505464</td>\n",
       "      <td>-0.801293</td>\n",
       "      <td>ABOVE_12</td>\n",
       "      <td>1</td>\n",
       "    </tr>\n",
       "    <tr>\n",
       "      <th>3</th>\n",
       "      <td>3</td>\n",
       "      <td>0</td>\n",
       "      <td>40</td>\n",
       "      <td>1</td>\n",
       "      <td>0.0</td>\n",
       "      <td>0.0</td>\n",
       "      <td>0.0</td>\n",
       "      <td>0.0</td>\n",
       "      <td>0.0</td>\n",
       "      <td>0.0</td>\n",
       "      <td>...</td>\n",
       "      <td>-0.047619</td>\n",
       "      <td>-0.171717</td>\n",
       "      <td>-0.308696</td>\n",
       "      <td>-0.057718</td>\n",
       "      <td>-0.069094</td>\n",
       "      <td>-0.329749</td>\n",
       "      <td>-0.047619</td>\n",
       "      <td>-0.172436</td>\n",
       "      <td>ABOVE_12</td>\n",
       "      <td>0</td>\n",
       "    </tr>\n",
       "    <tr>\n",
       "      <th>4</th>\n",
       "      <td>4</td>\n",
       "      <td>0</td>\n",
       "      <td>10</td>\n",
       "      <td>0</td>\n",
       "      <td>0.0</td>\n",
       "      <td>0.0</td>\n",
       "      <td>0.0</td>\n",
       "      <td>0.0</td>\n",
       "      <td>0.0</td>\n",
       "      <td>0.0</td>\n",
       "      <td>...</td>\n",
       "      <td>-0.642857</td>\n",
       "      <td>-0.939394</td>\n",
       "      <td>-0.652174</td>\n",
       "      <td>-0.596165</td>\n",
       "      <td>-0.634847</td>\n",
       "      <td>-0.817204</td>\n",
       "      <td>-0.645793</td>\n",
       "      <td>-0.940077</td>\n",
       "      <td>ABOVE_12</td>\n",
       "      <td>0</td>\n",
       "    </tr>\n",
       "    <tr>\n",
       "      <th>...</th>\n",
       "      <td>...</td>\n",
       "      <td>...</td>\n",
       "      <td>...</td>\n",
       "      <td>...</td>\n",
       "      <td>...</td>\n",
       "      <td>...</td>\n",
       "      <td>...</td>\n",
       "      <td>...</td>\n",
       "      <td>...</td>\n",
       "      <td>...</td>\n",
       "      <td>...</td>\n",
       "      <td>...</td>\n",
       "      <td>...</td>\n",
       "      <td>...</td>\n",
       "      <td>...</td>\n",
       "      <td>...</td>\n",
       "      <td>...</td>\n",
       "      <td>...</td>\n",
       "      <td>...</td>\n",
       "      <td>...</td>\n",
       "      <td>...</td>\n",
       "    </tr>\n",
       "    <tr>\n",
       "      <th>380</th>\n",
       "      <td>380</td>\n",
       "      <td>0</td>\n",
       "      <td>40</td>\n",
       "      <td>1</td>\n",
       "      <td>0.0</td>\n",
       "      <td>0.0</td>\n",
       "      <td>0.0</td>\n",
       "      <td>1.0</td>\n",
       "      <td>0.0</td>\n",
       "      <td>0.0</td>\n",
       "      <td>...</td>\n",
       "      <td>-0.523810</td>\n",
       "      <td>-0.717172</td>\n",
       "      <td>-0.505721</td>\n",
       "      <td>-0.119847</td>\n",
       "      <td>-0.553531</td>\n",
       "      <td>-0.245968</td>\n",
       "      <td>-0.535361</td>\n",
       "      <td>-0.717417</td>\n",
       "      <td>ABOVE_12</td>\n",
       "      <td>1</td>\n",
       "    </tr>\n",
       "    <tr>\n",
       "      <th>381</th>\n",
       "      <td>381</td>\n",
       "      <td>1</td>\n",
       "      <td>100</td>\n",
       "      <td>0</td>\n",
       "      <td>1.0</td>\n",
       "      <td>0.0</td>\n",
       "      <td>0.0</td>\n",
       "      <td>0.0</td>\n",
       "      <td>0.0</td>\n",
       "      <td>0.0</td>\n",
       "      <td>...</td>\n",
       "      <td>-0.619048</td>\n",
       "      <td>-0.959596</td>\n",
       "      <td>-0.982609</td>\n",
       "      <td>-0.871507</td>\n",
       "      <td>-0.804670</td>\n",
       "      <td>-0.878136</td>\n",
       "      <td>-0.612627</td>\n",
       "      <td>-0.960052</td>\n",
       "      <td>ABOVE_12</td>\n",
       "      <td>0</td>\n",
       "    </tr>\n",
       "    <tr>\n",
       "      <th>382</th>\n",
       "      <td>382</td>\n",
       "      <td>0</td>\n",
       "      <td>50</td>\n",
       "      <td>0</td>\n",
       "      <td>0.0</td>\n",
       "      <td>0.0</td>\n",
       "      <td>0.0</td>\n",
       "      <td>0.0</td>\n",
       "      <td>0.0</td>\n",
       "      <td>0.0</td>\n",
       "      <td>...</td>\n",
       "      <td>-0.500000</td>\n",
       "      <td>-0.838384</td>\n",
       "      <td>-0.513996</td>\n",
       "      <td>-0.236377</td>\n",
       "      <td>-0.617378</td>\n",
       "      <td>-0.191851</td>\n",
       "      <td>-0.498615</td>\n",
       "      <td>-0.835052</td>\n",
       "      <td>ABOVE_12</td>\n",
       "      <td>1</td>\n",
       "    </tr>\n",
       "    <tr>\n",
       "      <th>383</th>\n",
       "      <td>383</td>\n",
       "      <td>0</td>\n",
       "      <td>40</td>\n",
       "      <td>1</td>\n",
       "      <td>0.0</td>\n",
       "      <td>0.0</td>\n",
       "      <td>0.0</td>\n",
       "      <td>0.0</td>\n",
       "      <td>0.0</td>\n",
       "      <td>0.0</td>\n",
       "      <td>...</td>\n",
       "      <td>-0.571429</td>\n",
       "      <td>-0.838384</td>\n",
       "      <td>-0.552795</td>\n",
       "      <td>-0.585967</td>\n",
       "      <td>-0.557252</td>\n",
       "      <td>-0.573477</td>\n",
       "      <td>-0.572609</td>\n",
       "      <td>-0.838524</td>\n",
       "      <td>ABOVE_12</td>\n",
       "      <td>0</td>\n",
       "    </tr>\n",
       "    <tr>\n",
       "      <th>384</th>\n",
       "      <td>384</td>\n",
       "      <td>0</td>\n",
       "      <td>50</td>\n",
       "      <td>1</td>\n",
       "      <td>0.0</td>\n",
       "      <td>0.0</td>\n",
       "      <td>1.0</td>\n",
       "      <td>0.0</td>\n",
       "      <td>0.0</td>\n",
       "      <td>0.0</td>\n",
       "      <td>...</td>\n",
       "      <td>-0.547619</td>\n",
       "      <td>-0.838384</td>\n",
       "      <td>-0.701863</td>\n",
       "      <td>-0.585967</td>\n",
       "      <td>-0.763868</td>\n",
       "      <td>-0.612903</td>\n",
       "      <td>-0.551337</td>\n",
       "      <td>-0.835052</td>\n",
       "      <td>ABOVE_12</td>\n",
       "      <td>0</td>\n",
       "    </tr>\n",
       "  </tbody>\n",
       "</table>\n",
       "<p>385 rows × 231 columns</p>\n",
       "</div>"
      ],
      "text/plain": [
       "     PATIENT_VISIT_IDENTIFIER  AGE_ABOVE65  AGE_PERCENTIL  GENDER  \\\n",
       "0                           0            1             60       0   \n",
       "1                           1            1             90       1   \n",
       "2                           2            0             10       0   \n",
       "3                           3            0             40       1   \n",
       "4                           4            0             10       0   \n",
       "..                        ...          ...            ...     ...   \n",
       "380                       380            0             40       1   \n",
       "381                       381            1            100       0   \n",
       "382                       382            0             50       0   \n",
       "383                       383            0             40       1   \n",
       "384                       384            0             50       1   \n",
       "\n",
       "     DISEASE GROUPING 1  DISEASE GROUPING 2  DISEASE GROUPING 3  \\\n",
       "0                   0.0                 0.0                 0.0   \n",
       "1                   0.0                 0.0                 0.0   \n",
       "2                   0.0                 0.0                 0.0   \n",
       "3                   0.0                 0.0                 0.0   \n",
       "4                   0.0                 0.0                 0.0   \n",
       "..                  ...                 ...                 ...   \n",
       "380                 0.0                 0.0                 0.0   \n",
       "381                 1.0                 0.0                 0.0   \n",
       "382                 0.0                 0.0                 0.0   \n",
       "383                 0.0                 0.0                 0.0   \n",
       "384                 0.0                 0.0                 1.0   \n",
       "\n",
       "     DISEASE GROUPING 4  DISEASE GROUPING 5  DISEASE GROUPING 6  ...  \\\n",
       "0                   0.0                 1.0                 1.0  ...   \n",
       "1                   0.0                 1.0                 0.0  ...   \n",
       "2                   0.0                 0.0                 0.0  ...   \n",
       "3                   0.0                 0.0                 0.0  ...   \n",
       "4                   0.0                 0.0                 0.0  ...   \n",
       "..                  ...                 ...                 ...  ...   \n",
       "380                 1.0                 0.0                 0.0  ...   \n",
       "381                 0.0                 0.0                 0.0  ...   \n",
       "382                 0.0                 0.0                 0.0  ...   \n",
       "383                 0.0                 0.0                 0.0  ...   \n",
       "384                 0.0                 0.0                 0.0  ...   \n",
       "\n",
       "     TEMPERATURE_DIFF  OXYGEN_SATURATION_DIFF  \\\n",
       "0           -0.238095               -0.818182   \n",
       "1            0.142857               -0.797980   \n",
       "2           -0.500000               -0.797980   \n",
       "3           -0.047619               -0.171717   \n",
       "4           -0.642857               -0.939394   \n",
       "..                ...                     ...   \n",
       "380         -0.523810               -0.717172   \n",
       "381         -0.619048               -0.959596   \n",
       "382         -0.500000               -0.838384   \n",
       "383         -0.571429               -0.838384   \n",
       "384         -0.547619               -0.838384   \n",
       "\n",
       "     BLOODPRESSURE_DIASTOLIC_DIFF_REL  BLOODPRESSURE_SISTOLIC_DIFF_REL  \\\n",
       "0                           -0.389967                         0.407558   \n",
       "1                            0.315690                         0.200359   \n",
       "2                           -0.515528                        -0.343258   \n",
       "3                           -0.308696                        -0.057718   \n",
       "4                           -0.652174                        -0.596165   \n",
       "..                                ...                              ...   \n",
       "380                         -0.505721                        -0.119847   \n",
       "381                         -0.982609                        -0.871507   \n",
       "382                         -0.513996                        -0.236377   \n",
       "383                         -0.552795                        -0.585967   \n",
       "384                         -0.701863                        -0.585967   \n",
       "\n",
       "     HEART_RATE_DIFF_REL  RESPIRATORY_RATE_DIFF_REL  TEMPERATURE_DIFF_REL  \\\n",
       "0              -0.230462                   0.096774             -0.242282   \n",
       "1              -0.239515                   0.645161              0.139709   \n",
       "2              -0.576744                  -0.695341             -0.505464   \n",
       "3              -0.069094                  -0.329749             -0.047619   \n",
       "4              -0.634847                  -0.817204             -0.645793   \n",
       "..                   ...                        ...                   ...   \n",
       "380            -0.553531                  -0.245968             -0.535361   \n",
       "381            -0.804670                  -0.878136             -0.612627   \n",
       "382            -0.617378                  -0.191851             -0.498615   \n",
       "383            -0.557252                  -0.573477             -0.572609   \n",
       "384            -0.763868                  -0.612903             -0.551337   \n",
       "\n",
       "     OXYGEN_SATURATION_DIFF_REL    WINDOW  ICU  \n",
       "0                     -0.814433  ABOVE_12    1  \n",
       "1                     -0.802317  ABOVE_12    1  \n",
       "2                     -0.801293  ABOVE_12    1  \n",
       "3                     -0.172436  ABOVE_12    0  \n",
       "4                     -0.940077  ABOVE_12    0  \n",
       "..                          ...       ...  ...  \n",
       "380                   -0.717417  ABOVE_12    1  \n",
       "381                   -0.960052  ABOVE_12    0  \n",
       "382                   -0.835052  ABOVE_12    1  \n",
       "383                   -0.838524  ABOVE_12    0  \n",
       "384                   -0.835052  ABOVE_12    0  \n",
       "\n",
       "[385 rows x 231 columns]"
      ]
     },
     "execution_count": 5,
     "metadata": {},
     "output_type": "execute_result"
    }
   ],
   "source": [
    "raw_data_grouped_id()"
   ]
  },
  {
   "cell_type": "markdown",
   "metadata": {},
   "source": [
    "Ou seja, temos um total de 385 pacientes."
   ]
  },
  {
   "cell_type": "markdown",
   "metadata": {},
   "source": [
    "Agrupando pela coluna ICU e contando o número de pacientes:"
   ]
  },
  {
   "cell_type": "code",
   "execution_count": 6,
   "metadata": {},
   "outputs": [
    {
     "data": {
      "text/plain": [
       "0    190\n",
       "1    195\n",
       "Name: TOTAL, dtype: int64"
      ]
     },
     "execution_count": 6,
     "metadata": {},
     "output_type": "execute_result"
    }
   ],
   "source": [
    "raw_data_grouped_id().groupby(by=['ICU'], as_index=False).count().rename(columns={'PATIENT_VISIT_IDENTIFIER': 'TOTAL'}).TOTAL"
   ]
  },
  {
   "cell_type": "markdown",
   "metadata": {},
   "source": [
    "No total temos 190 pacientes que não precisaram de atendimento em UTI e outros 195 pacientes que precisaram."
   ]
  },
  {
   "cell_type": "markdown",
   "metadata": {},
   "source": [
    "Agrupando por sexo"
   ]
  },
  {
   "cell_type": "code",
   "execution_count": 7,
   "metadata": {},
   "outputs": [
    {
     "data": {
      "text/plain": [
       "0    243\n",
       "1    142\n",
       "Name: TOTAL, dtype: int64"
      ]
     },
     "execution_count": 7,
     "metadata": {},
     "output_type": "execute_result"
    }
   ],
   "source": [
    "raw_data_grouped_id().groupby(by=['GENDER'], as_index=False).count().rename(columns={'PATIENT_VISIT_IDENTIFIER': 'TOTAL'}).TOTAL"
   ]
  },
  {
   "cell_type": "markdown",
   "metadata": {},
   "source": [
    "Temos 243 pacientes do sexo masculino e 142 pacientes do sexo feminino, ou seja, o número de pacientes do sexo masculino representa 63% do total. A legenda para a coluna 'GENDER' (0=masculino, e 1=feminino) foi discutida em [[3]](https://www.kaggle.com/S%C3%ADrio-Libanes/covid19/discussion/164019) no kaggle."
   ]
  },
  {
   "cell_type": "code",
   "execution_count": 8,
   "metadata": {},
   "outputs": [
    {
     "data": {
      "text/html": [
       "<div>\n",
       "<style scoped>\n",
       "    .dataframe tbody tr th:only-of-type {\n",
       "        vertical-align: middle;\n",
       "    }\n",
       "\n",
       "    .dataframe tbody tr th {\n",
       "        vertical-align: top;\n",
       "    }\n",
       "\n",
       "    .dataframe thead th {\n",
       "        text-align: right;\n",
       "    }\n",
       "</style>\n",
       "<table border=\"1\" class=\"dataframe\">\n",
       "  <thead>\n",
       "    <tr style=\"text-align: right;\">\n",
       "      <th></th>\n",
       "      <th>GENDER</th>\n",
       "      <th>ICU</th>\n",
       "      <th>TOTAL</th>\n",
       "    </tr>\n",
       "  </thead>\n",
       "  <tbody>\n",
       "    <tr>\n",
       "      <th>0</th>\n",
       "      <td>0</td>\n",
       "      <td>0</td>\n",
       "      <td>108</td>\n",
       "    </tr>\n",
       "    <tr>\n",
       "      <th>1</th>\n",
       "      <td>0</td>\n",
       "      <td>1</td>\n",
       "      <td>135</td>\n",
       "    </tr>\n",
       "    <tr>\n",
       "      <th>2</th>\n",
       "      <td>1</td>\n",
       "      <td>0</td>\n",
       "      <td>82</td>\n",
       "    </tr>\n",
       "    <tr>\n",
       "      <th>3</th>\n",
       "      <td>1</td>\n",
       "      <td>1</td>\n",
       "      <td>60</td>\n",
       "    </tr>\n",
       "  </tbody>\n",
       "</table>\n",
       "</div>"
      ],
      "text/plain": [
       "   GENDER  ICU  TOTAL\n",
       "0       0    0    108\n",
       "1       0    1    135\n",
       "2       1    0     82\n",
       "3       1    1     60"
      ]
     },
     "execution_count": 8,
     "metadata": {},
     "output_type": "execute_result"
    }
   ],
   "source": [
    "raw_data_grouped_id().groupby(by=['GENDER', 'ICU'], as_index=False).count()[['GENDER', 'ICU', \n",
    "    'PATIENT_VISIT_IDENTIFIER']].rename(columns={'PATIENT_VISIT_IDENTIFIER': 'TOTAL'})"
   ]
  },
  {
   "cell_type": "markdown",
   "metadata": {},
   "source": [
    "Dos 243 pacientes masculinos, 108 não precisaram de atendimento na UTI, enquanto que 135 precisaram, ou seja, 55.5% dos pacientes masculinos foram para a UTI. Enquanto que para os pacientes femininos 82 não precisaram de atendimento de UTI e 60 precisaram, ou seja, 42.2% dos pacientes femininos precisaram de atendimento na UTI."
   ]
  },
  {
   "cell_type": "markdown",
   "metadata": {},
   "source": [
    "Analisando por idade maior que 65 anos"
   ]
  },
  {
   "cell_type": "code",
   "execution_count": 9,
   "metadata": {},
   "outputs": [
    {
     "data": {
      "text/plain": [
       "0    205\n",
       "1    180\n",
       "Name: TOTAL, dtype: int64"
      ]
     },
     "execution_count": 9,
     "metadata": {},
     "output_type": "execute_result"
    }
   ],
   "source": [
    "raw_data_grouped_id().groupby(by=['AGE_ABOVE65'], as_index=False).count().rename(columns={'PATIENT_VISIT_IDENTIFIER': 'TOTAL'}).TOTAL"
   ]
  },
  {
   "cell_type": "markdown",
   "metadata": {},
   "source": [
    "Temos que 180 pacientes tem mais de 65 anos de idade, o que representa 46.7% do total de pacientes."
   ]
  },
  {
   "cell_type": "code",
   "execution_count": 10,
   "metadata": {},
   "outputs": [
    {
     "data": {
      "text/html": [
       "<div>\n",
       "<style scoped>\n",
       "    .dataframe tbody tr th:only-of-type {\n",
       "        vertical-align: middle;\n",
       "    }\n",
       "\n",
       "    .dataframe tbody tr th {\n",
       "        vertical-align: top;\n",
       "    }\n",
       "\n",
       "    .dataframe thead th {\n",
       "        text-align: right;\n",
       "    }\n",
       "</style>\n",
       "<table border=\"1\" class=\"dataframe\">\n",
       "  <thead>\n",
       "    <tr style=\"text-align: right;\">\n",
       "      <th></th>\n",
       "      <th>ICU</th>\n",
       "      <th>AGE_ABOVE65</th>\n",
       "      <th>TOTAL</th>\n",
       "    </tr>\n",
       "  </thead>\n",
       "  <tbody>\n",
       "    <tr>\n",
       "      <th>0</th>\n",
       "      <td>0</td>\n",
       "      <td>0</td>\n",
       "      <td>129</td>\n",
       "    </tr>\n",
       "    <tr>\n",
       "      <th>1</th>\n",
       "      <td>0</td>\n",
       "      <td>1</td>\n",
       "      <td>61</td>\n",
       "    </tr>\n",
       "    <tr>\n",
       "      <th>2</th>\n",
       "      <td>1</td>\n",
       "      <td>0</td>\n",
       "      <td>76</td>\n",
       "    </tr>\n",
       "    <tr>\n",
       "      <th>3</th>\n",
       "      <td>1</td>\n",
       "      <td>1</td>\n",
       "      <td>119</td>\n",
       "    </tr>\n",
       "  </tbody>\n",
       "</table>\n",
       "</div>"
      ],
      "text/plain": [
       "   ICU  AGE_ABOVE65  TOTAL\n",
       "0    0            0    129\n",
       "1    0            1     61\n",
       "2    1            0     76\n",
       "3    1            1    119"
      ]
     },
     "execution_count": 10,
     "metadata": {},
     "output_type": "execute_result"
    }
   ],
   "source": [
    "raw_data_grouped_id().groupby(by=['ICU','AGE_ABOVE65'], as_index=False).count()[['ICU', \n",
    "    'AGE_ABOVE65','PATIENT_VISIT_IDENTIFIER']].rename(columns={'PATIENT_VISIT_IDENTIFIER': 'TOTAL'})"
   ]
  },
  {
   "cell_type": "markdown",
   "metadata": {},
   "source": [
    "E dos 180 pacientes com mais de 65 anos 119 precisaram de atencimendo de UTI. Ou seja, 66% dos pacientes com mais de 65 anos precisaram de atendimento de UTI, além disso, considerando as internações em UTI para todas as idades (195 no total), pessoas com mais de 65 anos representam 61% do total."
   ]
  },
  {
   "cell_type": "markdown",
   "metadata": {},
   "source": [
    "Separando os dados de internação por faixa etária, sexo e se o paciente precisou de atendimento em UTI ou não, temos:"
   ]
  },
  {
   "cell_type": "code",
   "execution_count": 11,
   "metadata": {},
   "outputs": [
    {
     "data": {
      "text/html": [
       "<div>\n",
       "<style scoped>\n",
       "    .dataframe tbody tr th:only-of-type {\n",
       "        vertical-align: middle;\n",
       "    }\n",
       "\n",
       "    .dataframe tbody tr th {\n",
       "        vertical-align: top;\n",
       "    }\n",
       "\n",
       "    .dataframe thead th {\n",
       "        text-align: right;\n",
       "    }\n",
       "</style>\n",
       "<table border=\"1\" class=\"dataframe\">\n",
       "  <thead>\n",
       "    <tr style=\"text-align: right;\">\n",
       "      <th></th>\n",
       "      <th>AGE_PERCENTIL</th>\n",
       "      <th>GENDER</th>\n",
       "      <th>ICU</th>\n",
       "      <th>TOTAL</th>\n",
       "    </tr>\n",
       "  </thead>\n",
       "  <tbody>\n",
       "    <tr>\n",
       "      <th>0</th>\n",
       "      <td>10</td>\n",
       "      <td>0</td>\n",
       "      <td>0</td>\n",
       "      <td>22</td>\n",
       "    </tr>\n",
       "    <tr>\n",
       "      <th>20</th>\n",
       "      <td>10</td>\n",
       "      <td>0</td>\n",
       "      <td>1</td>\n",
       "      <td>8</td>\n",
       "    </tr>\n",
       "    <tr>\n",
       "      <th>1</th>\n",
       "      <td>10</td>\n",
       "      <td>1</td>\n",
       "      <td>0</td>\n",
       "      <td>9</td>\n",
       "    </tr>\n",
       "    <tr>\n",
       "      <th>21</th>\n",
       "      <td>10</td>\n",
       "      <td>1</td>\n",
       "      <td>1</td>\n",
       "      <td>2</td>\n",
       "    </tr>\n",
       "    <tr>\n",
       "      <th>2</th>\n",
       "      <td>20</td>\n",
       "      <td>0</td>\n",
       "      <td>0</td>\n",
       "      <td>16</td>\n",
       "    </tr>\n",
       "    <tr>\n",
       "      <th>22</th>\n",
       "      <td>20</td>\n",
       "      <td>0</td>\n",
       "      <td>1</td>\n",
       "      <td>9</td>\n",
       "    </tr>\n",
       "    <tr>\n",
       "      <th>3</th>\n",
       "      <td>20</td>\n",
       "      <td>1</td>\n",
       "      <td>0</td>\n",
       "      <td>15</td>\n",
       "    </tr>\n",
       "    <tr>\n",
       "      <th>23</th>\n",
       "      <td>20</td>\n",
       "      <td>1</td>\n",
       "      <td>1</td>\n",
       "      <td>3</td>\n",
       "    </tr>\n",
       "    <tr>\n",
       "      <th>4</th>\n",
       "      <td>30</td>\n",
       "      <td>0</td>\n",
       "      <td>0</td>\n",
       "      <td>14</td>\n",
       "    </tr>\n",
       "    <tr>\n",
       "      <th>24</th>\n",
       "      <td>30</td>\n",
       "      <td>0</td>\n",
       "      <td>1</td>\n",
       "      <td>14</td>\n",
       "    </tr>\n",
       "    <tr>\n",
       "      <th>5</th>\n",
       "      <td>30</td>\n",
       "      <td>1</td>\n",
       "      <td>0</td>\n",
       "      <td>9</td>\n",
       "    </tr>\n",
       "    <tr>\n",
       "      <th>25</th>\n",
       "      <td>30</td>\n",
       "      <td>1</td>\n",
       "      <td>1</td>\n",
       "      <td>4</td>\n",
       "    </tr>\n",
       "    <tr>\n",
       "      <th>6</th>\n",
       "      <td>40</td>\n",
       "      <td>0</td>\n",
       "      <td>0</td>\n",
       "      <td>14</td>\n",
       "    </tr>\n",
       "    <tr>\n",
       "      <th>26</th>\n",
       "      <td>40</td>\n",
       "      <td>0</td>\n",
       "      <td>1</td>\n",
       "      <td>12</td>\n",
       "    </tr>\n",
       "    <tr>\n",
       "      <th>7</th>\n",
       "      <td>40</td>\n",
       "      <td>1</td>\n",
       "      <td>0</td>\n",
       "      <td>11</td>\n",
       "    </tr>\n",
       "    <tr>\n",
       "      <th>27</th>\n",
       "      <td>40</td>\n",
       "      <td>1</td>\n",
       "      <td>1</td>\n",
       "      <td>3</td>\n",
       "    </tr>\n",
       "    <tr>\n",
       "      <th>8</th>\n",
       "      <td>50</td>\n",
       "      <td>0</td>\n",
       "      <td>0</td>\n",
       "      <td>8</td>\n",
       "    </tr>\n",
       "    <tr>\n",
       "      <th>28</th>\n",
       "      <td>50</td>\n",
       "      <td>0</td>\n",
       "      <td>1</td>\n",
       "      <td>16</td>\n",
       "    </tr>\n",
       "    <tr>\n",
       "      <th>9</th>\n",
       "      <td>50</td>\n",
       "      <td>1</td>\n",
       "      <td>0</td>\n",
       "      <td>10</td>\n",
       "    </tr>\n",
       "    <tr>\n",
       "      <th>29</th>\n",
       "      <td>50</td>\n",
       "      <td>1</td>\n",
       "      <td>1</td>\n",
       "      <td>4</td>\n",
       "    </tr>\n",
       "    <tr>\n",
       "      <th>10</th>\n",
       "      <td>60</td>\n",
       "      <td>0</td>\n",
       "      <td>0</td>\n",
       "      <td>8</td>\n",
       "    </tr>\n",
       "    <tr>\n",
       "      <th>30</th>\n",
       "      <td>60</td>\n",
       "      <td>0</td>\n",
       "      <td>1</td>\n",
       "      <td>14</td>\n",
       "    </tr>\n",
       "    <tr>\n",
       "      <th>11</th>\n",
       "      <td>60</td>\n",
       "      <td>1</td>\n",
       "      <td>0</td>\n",
       "      <td>9</td>\n",
       "    </tr>\n",
       "    <tr>\n",
       "      <th>31</th>\n",
       "      <td>60</td>\n",
       "      <td>1</td>\n",
       "      <td>1</td>\n",
       "      <td>6</td>\n",
       "    </tr>\n",
       "    <tr>\n",
       "      <th>12</th>\n",
       "      <td>70</td>\n",
       "      <td>0</td>\n",
       "      <td>0</td>\n",
       "      <td>9</td>\n",
       "    </tr>\n",
       "    <tr>\n",
       "      <th>32</th>\n",
       "      <td>70</td>\n",
       "      <td>0</td>\n",
       "      <td>1</td>\n",
       "      <td>16</td>\n",
       "    </tr>\n",
       "    <tr>\n",
       "      <th>13</th>\n",
       "      <td>70</td>\n",
       "      <td>1</td>\n",
       "      <td>0</td>\n",
       "      <td>8</td>\n",
       "    </tr>\n",
       "    <tr>\n",
       "      <th>33</th>\n",
       "      <td>70</td>\n",
       "      <td>1</td>\n",
       "      <td>1</td>\n",
       "      <td>6</td>\n",
       "    </tr>\n",
       "    <tr>\n",
       "      <th>14</th>\n",
       "      <td>80</td>\n",
       "      <td>0</td>\n",
       "      <td>0</td>\n",
       "      <td>8</td>\n",
       "    </tr>\n",
       "    <tr>\n",
       "      <th>34</th>\n",
       "      <td>80</td>\n",
       "      <td>0</td>\n",
       "      <td>1</td>\n",
       "      <td>19</td>\n",
       "    </tr>\n",
       "    <tr>\n",
       "      <th>15</th>\n",
       "      <td>80</td>\n",
       "      <td>1</td>\n",
       "      <td>0</td>\n",
       "      <td>4</td>\n",
       "    </tr>\n",
       "    <tr>\n",
       "      <th>35</th>\n",
       "      <td>80</td>\n",
       "      <td>1</td>\n",
       "      <td>1</td>\n",
       "      <td>7</td>\n",
       "    </tr>\n",
       "    <tr>\n",
       "      <th>16</th>\n",
       "      <td>90</td>\n",
       "      <td>0</td>\n",
       "      <td>0</td>\n",
       "      <td>5</td>\n",
       "    </tr>\n",
       "    <tr>\n",
       "      <th>36</th>\n",
       "      <td>90</td>\n",
       "      <td>0</td>\n",
       "      <td>1</td>\n",
       "      <td>13</td>\n",
       "    </tr>\n",
       "    <tr>\n",
       "      <th>17</th>\n",
       "      <td>90</td>\n",
       "      <td>1</td>\n",
       "      <td>0</td>\n",
       "      <td>3</td>\n",
       "    </tr>\n",
       "    <tr>\n",
       "      <th>37</th>\n",
       "      <td>90</td>\n",
       "      <td>1</td>\n",
       "      <td>1</td>\n",
       "      <td>10</td>\n",
       "    </tr>\n",
       "    <tr>\n",
       "      <th>18</th>\n",
       "      <td>100</td>\n",
       "      <td>0</td>\n",
       "      <td>0</td>\n",
       "      <td>4</td>\n",
       "    </tr>\n",
       "    <tr>\n",
       "      <th>38</th>\n",
       "      <td>100</td>\n",
       "      <td>0</td>\n",
       "      <td>1</td>\n",
       "      <td>14</td>\n",
       "    </tr>\n",
       "    <tr>\n",
       "      <th>19</th>\n",
       "      <td>100</td>\n",
       "      <td>1</td>\n",
       "      <td>0</td>\n",
       "      <td>4</td>\n",
       "    </tr>\n",
       "    <tr>\n",
       "      <th>39</th>\n",
       "      <td>100</td>\n",
       "      <td>1</td>\n",
       "      <td>1</td>\n",
       "      <td>15</td>\n",
       "    </tr>\n",
       "  </tbody>\n",
       "</table>\n",
       "</div>"
      ],
      "text/plain": [
       "    AGE_PERCENTIL  GENDER  ICU  TOTAL\n",
       "0              10       0    0     22\n",
       "20             10       0    1      8\n",
       "1              10       1    0      9\n",
       "21             10       1    1      2\n",
       "2              20       0    0     16\n",
       "22             20       0    1      9\n",
       "3              20       1    0     15\n",
       "23             20       1    1      3\n",
       "4              30       0    0     14\n",
       "24             30       0    1     14\n",
       "5              30       1    0      9\n",
       "25             30       1    1      4\n",
       "6              40       0    0     14\n",
       "26             40       0    1     12\n",
       "7              40       1    0     11\n",
       "27             40       1    1      3\n",
       "8              50       0    0      8\n",
       "28             50       0    1     16\n",
       "9              50       1    0     10\n",
       "29             50       1    1      4\n",
       "10             60       0    0      8\n",
       "30             60       0    1     14\n",
       "11             60       1    0      9\n",
       "31             60       1    1      6\n",
       "12             70       0    0      9\n",
       "32             70       0    1     16\n",
       "13             70       1    0      8\n",
       "33             70       1    1      6\n",
       "14             80       0    0      8\n",
       "34             80       0    1     19\n",
       "15             80       1    0      4\n",
       "35             80       1    1      7\n",
       "16             90       0    0      5\n",
       "36             90       0    1     13\n",
       "17             90       1    0      3\n",
       "37             90       1    1     10\n",
       "18            100       0    0      4\n",
       "38            100       0    1     14\n",
       "19            100       1    0      4\n",
       "39            100       1    1     15"
      ]
     },
     "execution_count": 11,
     "metadata": {},
     "output_type": "execute_result"
    }
   ],
   "source": [
    "raw_data_grouped_id().groupby(by=['ICU','AGE_PERCENTIL', 'GENDER'], as_index=False).count().rename(\n",
    "    columns={'PATIENT_VISIT_IDENTIFIER': 'TOTAL'})[['AGE_PERCENTIL','GENDER','ICU','TOTAL']].sort_values(by=['AGE_PERCENTIL', 'GENDER'])"
   ]
  },
  {
   "cell_type": "markdown",
   "metadata": {},
   "source": [
    "Para analisar mais facilmente esses dados vamos gerar uma visualização:"
   ]
  },
  {
   "cell_type": "code",
   "execution_count": 12,
   "metadata": {},
   "outputs": [
    {
     "data": {
      "image/png": "[encoded data removed]",
      "text/plain": [
       "<Figure size 1000x500 with 2 Axes>"
      ]
     },
     "metadata": {},
     "output_type": "display_data"
    }
   ],
   "source": [
    "plot_internacoes()"
   ]
  },
  {
   "cell_type": "markdown",
   "metadata": {},
   "source": [
    "O primeiro resultado que chama atenção neste gráfico é que o número de internações de homens (Sexo = 0) é maior do que de mulheres (Sexo = 1), entretanto este resultado não significa que a COVID-19 é mais grave em homens do que em mulheres pois os dados representam apenas um período limitado no tempo (e não a média dos dados de toda a pandemia), e questões socioeconomicas também devem ser levadas em consideração, pois os dados são de um hospital particular (será que os homens tem mais acesso ao serviço privado de saúde do que as mulheres?).\n",
    "\n",
    "A segunda análise que podemos fazer deste gráfico é que quanto maior a idade do paciente maior é a chance do mesmo necessitar de um atendimento de UTI, independentemente do sexo.\n",
    "\n",
    "Entretanto, os dados disponibilizados pelo hospital possuem muito mais informações do que apenas sexo e intervalo de idade do paciente, como, por exemplo, as doenças pré-existentes para cada paciente e o resultado dos exames feitos durante as internações; como pode-se ler em [[4]](https://www.bbc.com/portuguese/geral-52901162), doenças pré-existentes, principalmente as não tratadas, aumentam a chance de um paciente evoluir para um caso mais grave de COVID-19."
   ]
  },
  {
   "cell_type": "code",
   "execution_count": 13,
   "metadata": {},
   "outputs": [
    {
     "data": {
      "text/plain": [
       "231"
      ]
     },
     "execution_count": 13,
     "metadata": {},
     "output_type": "execute_result"
    }
   ],
   "source": [
    "raw_data().shape[1]"
   ]
  },
  {
   "cell_type": "markdown",
   "metadata": {},
   "source": [
    "A base de dados possui 231 colunas disponíveis com informações para os 385 pacientes. Dados desta dimensão são inviáveis de serem analisados com um gráfico para cada coluna, como fizemos para o intervalo de idade de cada paciente, e assim calcular manualmente quem tem maior chance de precisar de atendimento em UTI. Para prevermos com uma melhor precisão se um paciente precisará de atendimento em UTI ou não vamos aplicar alguns modelos de machine learning através da biblioteca Scikit-learn."
   ]
  },
  {
   "cell_type": "markdown",
   "metadata": {},
   "source": [
    "### Machine Learning"
   ]
  },
  {
   "cell_type": "markdown",
   "metadata": {},
   "source": [
    "Nosso objetivo é determinar se um paciente precisará de atendimento de UTI ou não, ou seja, queremos identificar se o paciente pertence à categoria UTI = 1 ou UTI = 0. Portanto temos um problema de classificação. Nesta seção vamos comparar os algoritmos de classificação Logistic regression, SVC, Linear SVC, Decision Tree, Random Forest, Gaussian Process, e K-nearest neighbors, e selecionar o que apresentar o melhor desempenho através de dois métodos distintos de análise; além disso, selecionaremos as features mais importantes através da análise da matriz de correlação e do RFECV, e selecionaremos os melhores valores para os parâmetros através da RandomizedSearchCV."
   ]
  },
  {
   "cell_type": "markdown",
   "metadata": {},
   "source": [
    "#### Dados treino e teste"
   ]
  },
  {
   "cell_type": "markdown",
   "metadata": {},
   "source": [
    "Como nosso objetivo é determinar a necessidade ou não de UTI para um paciente, o melhor é que nosso modelo preveja esta necessidade o quanto antes, ou seja, nas primeiras duas horas de internação. Para isso vamos primeiramente eliminar os pacientes que deram entrada no hospital diretamente na UTI, ou seja, na primeira 'WINDOW', pois o resultado dos exames não nos ajudam a prever se o paciente precisará de internação ou não (os exames podem ter sido realizados apenas depois da internação na UTI), posteriormente vamos selecionar os dados das primeiras duas horas de internação dos pacientes restantes (para que a previsão ocorra a partir dos dados das primeiras horas de internação) e, para os pacientes que precisaram de UTI depois da 'WINDOW' de 0-2 horas, vamos alterar o valor da feature 'ICU' para 1 para a 'WINDOW' 0-2, resultando em:"
   ]
  },
  {
   "cell_type": "code",
   "execution_count": 14,
   "metadata": {},
   "outputs": [
    {
     "data": {
      "text/html": [
       "<div>\n",
       "<style scoped>\n",
       "    .dataframe tbody tr th:only-of-type {\n",
       "        vertical-align: middle;\n",
       "    }\n",
       "\n",
       "    .dataframe tbody tr th {\n",
       "        vertical-align: top;\n",
       "    }\n",
       "\n",
       "    .dataframe thead th {\n",
       "        text-align: right;\n",
       "    }\n",
       "</style>\n",
       "<table border=\"1\" class=\"dataframe\">\n",
       "  <thead>\n",
       "    <tr style=\"text-align: right;\">\n",
       "      <th></th>\n",
       "      <th></th>\n",
       "      <th>PATIENT_VISIT_IDENTIFIER</th>\n",
       "      <th>AGE_ABOVE65</th>\n",
       "      <th>AGE_PERCENTIL</th>\n",
       "      <th>GENDER</th>\n",
       "      <th>DISEASE GROUPING 1</th>\n",
       "      <th>DISEASE GROUPING 2</th>\n",
       "      <th>DISEASE GROUPING 3</th>\n",
       "      <th>DISEASE GROUPING 4</th>\n",
       "      <th>DISEASE GROUPING 5</th>\n",
       "      <th>DISEASE GROUPING 6</th>\n",
       "      <th>...</th>\n",
       "      <th>TEMPERATURE_DIFF</th>\n",
       "      <th>OXYGEN_SATURATION_DIFF</th>\n",
       "      <th>BLOODPRESSURE_DIASTOLIC_DIFF_REL</th>\n",
       "      <th>BLOODPRESSURE_SISTOLIC_DIFF_REL</th>\n",
       "      <th>HEART_RATE_DIFF_REL</th>\n",
       "      <th>RESPIRATORY_RATE_DIFF_REL</th>\n",
       "      <th>TEMPERATURE_DIFF_REL</th>\n",
       "      <th>OXYGEN_SATURATION_DIFF_REL</th>\n",
       "      <th>WINDOW</th>\n",
       "      <th>ICU</th>\n",
       "    </tr>\n",
       "  </thead>\n",
       "  <tbody>\n",
       "    <tr>\n",
       "      <th>0</th>\n",
       "      <th>0</th>\n",
       "      <td>0</td>\n",
       "      <td>1</td>\n",
       "      <td>60</td>\n",
       "      <td>0</td>\n",
       "      <td>0.0</td>\n",
       "      <td>0.0</td>\n",
       "      <td>0.0</td>\n",
       "      <td>0.0</td>\n",
       "      <td>1.0</td>\n",
       "      <td>1.0</td>\n",
       "      <td>...</td>\n",
       "      <td>-1.000000</td>\n",
       "      <td>-1.000000</td>\n",
       "      <td>-1.000000</td>\n",
       "      <td>-1.000000</td>\n",
       "      <td>-1.000000</td>\n",
       "      <td>-1.000000</td>\n",
       "      <td>-1.000000</td>\n",
       "      <td>-1.000000</td>\n",
       "      <td>0-2</td>\n",
       "      <td>1</td>\n",
       "    </tr>\n",
       "    <tr>\n",
       "      <th>1</th>\n",
       "      <th>10</th>\n",
       "      <td>2</td>\n",
       "      <td>0</td>\n",
       "      <td>10</td>\n",
       "      <td>0</td>\n",
       "      <td>0.0</td>\n",
       "      <td>0.0</td>\n",
       "      <td>0.0</td>\n",
       "      <td>0.0</td>\n",
       "      <td>0.0</td>\n",
       "      <td>0.0</td>\n",
       "      <td>...</td>\n",
       "      <td>-1.000000</td>\n",
       "      <td>-0.959596</td>\n",
       "      <td>-0.515528</td>\n",
       "      <td>-0.351328</td>\n",
       "      <td>-0.747001</td>\n",
       "      <td>-0.756272</td>\n",
       "      <td>-1.000000</td>\n",
       "      <td>-0.961262</td>\n",
       "      <td>0-2</td>\n",
       "      <td>1</td>\n",
       "    </tr>\n",
       "    <tr>\n",
       "      <th>2</th>\n",
       "      <th>15</th>\n",
       "      <td>3</td>\n",
       "      <td>0</td>\n",
       "      <td>40</td>\n",
       "      <td>1</td>\n",
       "      <td>0.0</td>\n",
       "      <td>0.0</td>\n",
       "      <td>0.0</td>\n",
       "      <td>0.0</td>\n",
       "      <td>0.0</td>\n",
       "      <td>0.0</td>\n",
       "      <td>...</td>\n",
       "      <td>-1.000000</td>\n",
       "      <td>-1.000000</td>\n",
       "      <td>-1.000000</td>\n",
       "      <td>-1.000000</td>\n",
       "      <td>-1.000000</td>\n",
       "      <td>-1.000000</td>\n",
       "      <td>-1.000000</td>\n",
       "      <td>-1.000000</td>\n",
       "      <td>0-2</td>\n",
       "      <td>0</td>\n",
       "    </tr>\n",
       "    <tr>\n",
       "      <th>3</th>\n",
       "      <th>20</th>\n",
       "      <td>4</td>\n",
       "      <td>0</td>\n",
       "      <td>10</td>\n",
       "      <td>0</td>\n",
       "      <td>0.0</td>\n",
       "      <td>0.0</td>\n",
       "      <td>0.0</td>\n",
       "      <td>0.0</td>\n",
       "      <td>0.0</td>\n",
       "      <td>0.0</td>\n",
       "      <td>...</td>\n",
       "      <td>-0.952381</td>\n",
       "      <td>-0.979798</td>\n",
       "      <td>-1.000000</td>\n",
       "      <td>-0.883669</td>\n",
       "      <td>-0.956805</td>\n",
       "      <td>-0.870968</td>\n",
       "      <td>-0.953536</td>\n",
       "      <td>-0.980333</td>\n",
       "      <td>0-2</td>\n",
       "      <td>0</td>\n",
       "    </tr>\n",
       "    <tr>\n",
       "      <th>4</th>\n",
       "      <th>25</th>\n",
       "      <td>5</td>\n",
       "      <td>0</td>\n",
       "      <td>10</td>\n",
       "      <td>0</td>\n",
       "      <td>0.0</td>\n",
       "      <td>0.0</td>\n",
       "      <td>0.0</td>\n",
       "      <td>0.0</td>\n",
       "      <td>0.0</td>\n",
       "      <td>0.0</td>\n",
       "      <td>...</td>\n",
       "      <td>-0.976190</td>\n",
       "      <td>-0.979798</td>\n",
       "      <td>-0.860870</td>\n",
       "      <td>-0.714460</td>\n",
       "      <td>-0.986481</td>\n",
       "      <td>-1.000000</td>\n",
       "      <td>-0.975891</td>\n",
       "      <td>-0.980129</td>\n",
       "      <td>0-2</td>\n",
       "      <td>0</td>\n",
       "    </tr>\n",
       "    <tr>\n",
       "      <th>...</th>\n",
       "      <th>...</th>\n",
       "      <td>...</td>\n",
       "      <td>...</td>\n",
       "      <td>...</td>\n",
       "      <td>...</td>\n",
       "      <td>...</td>\n",
       "      <td>...</td>\n",
       "      <td>...</td>\n",
       "      <td>...</td>\n",
       "      <td>...</td>\n",
       "      <td>...</td>\n",
       "      <td>...</td>\n",
       "      <td>...</td>\n",
       "      <td>...</td>\n",
       "      <td>...</td>\n",
       "      <td>...</td>\n",
       "      <td>...</td>\n",
       "      <td>...</td>\n",
       "      <td>...</td>\n",
       "      <td>...</td>\n",
       "      <td>...</td>\n",
       "      <td>...</td>\n",
       "    </tr>\n",
       "    <tr>\n",
       "      <th>348</th>\n",
       "      <th>1900</th>\n",
       "      <td>380</td>\n",
       "      <td>0</td>\n",
       "      <td>40</td>\n",
       "      <td>1</td>\n",
       "      <td>0.0</td>\n",
       "      <td>0.0</td>\n",
       "      <td>0.0</td>\n",
       "      <td>0.0</td>\n",
       "      <td>0.0</td>\n",
       "      <td>0.0</td>\n",
       "      <td>...</td>\n",
       "      <td>-1.000000</td>\n",
       "      <td>-1.000000</td>\n",
       "      <td>-1.000000</td>\n",
       "      <td>-1.000000</td>\n",
       "      <td>-1.000000</td>\n",
       "      <td>-1.000000</td>\n",
       "      <td>-1.000000</td>\n",
       "      <td>-1.000000</td>\n",
       "      <td>0-2</td>\n",
       "      <td>1</td>\n",
       "    </tr>\n",
       "    <tr>\n",
       "      <th>349</th>\n",
       "      <th>1905</th>\n",
       "      <td>381</td>\n",
       "      <td>1</td>\n",
       "      <td>100</td>\n",
       "      <td>0</td>\n",
       "      <td>0.0</td>\n",
       "      <td>0.0</td>\n",
       "      <td>0.0</td>\n",
       "      <td>0.0</td>\n",
       "      <td>0.0</td>\n",
       "      <td>0.0</td>\n",
       "      <td>...</td>\n",
       "      <td>-0.619048</td>\n",
       "      <td>-1.000000</td>\n",
       "      <td>-1.000000</td>\n",
       "      <td>-1.000000</td>\n",
       "      <td>-1.000000</td>\n",
       "      <td>-1.000000</td>\n",
       "      <td>-0.612627</td>\n",
       "      <td>-1.000000</td>\n",
       "      <td>0-2</td>\n",
       "      <td>0</td>\n",
       "    </tr>\n",
       "    <tr>\n",
       "      <th>350</th>\n",
       "      <th>1910</th>\n",
       "      <td>382</td>\n",
       "      <td>0</td>\n",
       "      <td>50</td>\n",
       "      <td>0</td>\n",
       "      <td>0.0</td>\n",
       "      <td>0.0</td>\n",
       "      <td>0.0</td>\n",
       "      <td>0.0</td>\n",
       "      <td>0.0</td>\n",
       "      <td>0.0</td>\n",
       "      <td>...</td>\n",
       "      <td>-1.000000</td>\n",
       "      <td>-1.000000</td>\n",
       "      <td>-1.000000</td>\n",
       "      <td>-1.000000</td>\n",
       "      <td>-1.000000</td>\n",
       "      <td>-1.000000</td>\n",
       "      <td>-1.000000</td>\n",
       "      <td>-1.000000</td>\n",
       "      <td>0-2</td>\n",
       "      <td>1</td>\n",
       "    </tr>\n",
       "    <tr>\n",
       "      <th>351</th>\n",
       "      <th>1915</th>\n",
       "      <td>383</td>\n",
       "      <td>0</td>\n",
       "      <td>40</td>\n",
       "      <td>1</td>\n",
       "      <td>0.0</td>\n",
       "      <td>0.0</td>\n",
       "      <td>0.0</td>\n",
       "      <td>0.0</td>\n",
       "      <td>0.0</td>\n",
       "      <td>0.0</td>\n",
       "      <td>...</td>\n",
       "      <td>-1.000000</td>\n",
       "      <td>-1.000000</td>\n",
       "      <td>-1.000000</td>\n",
       "      <td>-1.000000</td>\n",
       "      <td>-1.000000</td>\n",
       "      <td>-1.000000</td>\n",
       "      <td>-1.000000</td>\n",
       "      <td>-1.000000</td>\n",
       "      <td>0-2</td>\n",
       "      <td>0</td>\n",
       "    </tr>\n",
       "    <tr>\n",
       "      <th>352</th>\n",
       "      <th>1920</th>\n",
       "      <td>384</td>\n",
       "      <td>0</td>\n",
       "      <td>50</td>\n",
       "      <td>1</td>\n",
       "      <td>0.0</td>\n",
       "      <td>0.0</td>\n",
       "      <td>0.0</td>\n",
       "      <td>0.0</td>\n",
       "      <td>0.0</td>\n",
       "      <td>0.0</td>\n",
       "      <td>...</td>\n",
       "      <td>-1.000000</td>\n",
       "      <td>-1.000000</td>\n",
       "      <td>-1.000000</td>\n",
       "      <td>-1.000000</td>\n",
       "      <td>-1.000000</td>\n",
       "      <td>-1.000000</td>\n",
       "      <td>-1.000000</td>\n",
       "      <td>-1.000000</td>\n",
       "      <td>0-2</td>\n",
       "      <td>0</td>\n",
       "    </tr>\n",
       "  </tbody>\n",
       "</table>\n",
       "<p>352 rows × 231 columns</p>\n",
       "</div>"
      ],
      "text/plain": [
       "          PATIENT_VISIT_IDENTIFIER  AGE_ABOVE65  AGE_PERCENTIL  GENDER  \\\n",
       "0   0                            0            1             60       0   \n",
       "1   10                           2            0             10       0   \n",
       "2   15                           3            0             40       1   \n",
       "3   20                           4            0             10       0   \n",
       "4   25                           5            0             10       0   \n",
       "...                            ...          ...            ...     ...   \n",
       "348 1900                       380            0             40       1   \n",
       "349 1905                       381            1            100       0   \n",
       "350 1910                       382            0             50       0   \n",
       "351 1915                       383            0             40       1   \n",
       "352 1920                       384            0             50       1   \n",
       "\n",
       "          DISEASE GROUPING 1  DISEASE GROUPING 2  DISEASE GROUPING 3  \\\n",
       "0   0                    0.0                 0.0                 0.0   \n",
       "1   10                   0.0                 0.0                 0.0   \n",
       "2   15                   0.0                 0.0                 0.0   \n",
       "3   20                   0.0                 0.0                 0.0   \n",
       "4   25                   0.0                 0.0                 0.0   \n",
       "...                      ...                 ...                 ...   \n",
       "348 1900                 0.0                 0.0                 0.0   \n",
       "349 1905                 0.0                 0.0                 0.0   \n",
       "350 1910                 0.0                 0.0                 0.0   \n",
       "351 1915                 0.0                 0.0                 0.0   \n",
       "352 1920                 0.0                 0.0                 0.0   \n",
       "\n",
       "          DISEASE GROUPING 4  DISEASE GROUPING 5  DISEASE GROUPING 6  ...  \\\n",
       "0   0                    0.0                 1.0                 1.0  ...   \n",
       "1   10                   0.0                 0.0                 0.0  ...   \n",
       "2   15                   0.0                 0.0                 0.0  ...   \n",
       "3   20                   0.0                 0.0                 0.0  ...   \n",
       "4   25                   0.0                 0.0                 0.0  ...   \n",
       "...                      ...                 ...                 ...  ...   \n",
       "348 1900                 0.0                 0.0                 0.0  ...   \n",
       "349 1905                 0.0                 0.0                 0.0  ...   \n",
       "350 1910                 0.0                 0.0                 0.0  ...   \n",
       "351 1915                 0.0                 0.0                 0.0  ...   \n",
       "352 1920                 0.0                 0.0                 0.0  ...   \n",
       "\n",
       "          TEMPERATURE_DIFF  OXYGEN_SATURATION_DIFF  \\\n",
       "0   0            -1.000000               -1.000000   \n",
       "1   10           -1.000000               -0.959596   \n",
       "2   15           -1.000000               -1.000000   \n",
       "3   20           -0.952381               -0.979798   \n",
       "4   25           -0.976190               -0.979798   \n",
       "...                    ...                     ...   \n",
       "348 1900         -1.000000               -1.000000   \n",
       "349 1905         -0.619048               -1.000000   \n",
       "350 1910         -1.000000               -1.000000   \n",
       "351 1915         -1.000000               -1.000000   \n",
       "352 1920         -1.000000               -1.000000   \n",
       "\n",
       "          BLOODPRESSURE_DIASTOLIC_DIFF_REL  BLOODPRESSURE_SISTOLIC_DIFF_REL  \\\n",
       "0   0                            -1.000000                        -1.000000   \n",
       "1   10                           -0.515528                        -0.351328   \n",
       "2   15                           -1.000000                        -1.000000   \n",
       "3   20                           -1.000000                        -0.883669   \n",
       "4   25                           -0.860870                        -0.714460   \n",
       "...                                    ...                              ...   \n",
       "348 1900                         -1.000000                        -1.000000   \n",
       "349 1905                         -1.000000                        -1.000000   \n",
       "350 1910                         -1.000000                        -1.000000   \n",
       "351 1915                         -1.000000                        -1.000000   \n",
       "352 1920                         -1.000000                        -1.000000   \n",
       "\n",
       "          HEART_RATE_DIFF_REL  RESPIRATORY_RATE_DIFF_REL  \\\n",
       "0   0               -1.000000                  -1.000000   \n",
       "1   10              -0.747001                  -0.756272   \n",
       "2   15              -1.000000                  -1.000000   \n",
       "3   20              -0.956805                  -0.870968   \n",
       "4   25              -0.986481                  -1.000000   \n",
       "...                       ...                        ...   \n",
       "348 1900            -1.000000                  -1.000000   \n",
       "349 1905            -1.000000                  -1.000000   \n",
       "350 1910            -1.000000                  -1.000000   \n",
       "351 1915            -1.000000                  -1.000000   \n",
       "352 1920            -1.000000                  -1.000000   \n",
       "\n",
       "          TEMPERATURE_DIFF_REL  OXYGEN_SATURATION_DIFF_REL  WINDOW  ICU  \n",
       "0   0                -1.000000                   -1.000000     0-2    1  \n",
       "1   10               -1.000000                   -0.961262     0-2    1  \n",
       "2   15               -1.000000                   -1.000000     0-2    0  \n",
       "3   20               -0.953536                   -0.980333     0-2    0  \n",
       "4   25               -0.975891                   -0.980129     0-2    0  \n",
       "...                        ...                         ...     ...  ...  \n",
       "348 1900             -1.000000                   -1.000000     0-2    1  \n",
       "349 1905             -0.612627                   -1.000000     0-2    0  \n",
       "350 1910             -1.000000                   -1.000000     0-2    1  \n",
       "351 1915             -1.000000                   -1.000000     0-2    0  \n",
       "352 1920             -1.000000                   -1.000000     0-2    0  \n",
       "\n",
       "[352 rows x 231 columns]"
      ]
     },
     "execution_count": 14,
     "metadata": {},
     "output_type": "execute_result"
    }
   ],
   "source": [
    "filtered_raw_data()"
   ]
  },
  {
   "cell_type": "markdown",
   "metadata": {},
   "source": [
    "Ou seja, dos 385 pacientes iniciais temos agora 352."
   ]
  },
  {
   "cell_type": "markdown",
   "metadata": {},
   "source": [
    "Separando os dados em features $(x)$ e classes $(y)$, onde classes é a coluna 'ICU', que nos diz se o paciente foi para a UTI ou não, e features são todas as outras colunas da base de dados, ou seja, são as colunas que usaremos como input em nosso modelo com o objetivo de prever a coluna 'ICU', temos:"
   ]
  },
  {
   "cell_type": "code",
   "execution_count": 15,
   "metadata": {},
   "outputs": [],
   "source": [
    "y = filtered_raw_data()['ICU']\n",
    "x = filtered_raw_data()[filtered_raw_data().columns].drop(['ICU', 'WINDOW'], axis = 'columns')"
   ]
  },
  {
   "cell_type": "markdown",
   "metadata": {},
   "source": [
    "Em seguida separamos os dados em dados de treino e dados de teste, com testes representando 30% dos dados e mantendo a proporção de casos da variável y:"
   ]
  },
  {
   "cell_type": "code",
   "execution_count": 16,
   "metadata": {},
   "outputs": [],
   "source": [
    "np.random.seed(5678)\n",
    "x_train, x_test, y_train, y_test = train_test_split(x,y, test_size = 0.3, stratify=y)"
   ]
  },
  {
   "cell_type": "code",
   "execution_count": 17,
   "metadata": {},
   "outputs": [
    {
     "name": "stdout",
     "output_type": "stream",
     "text": [
      "246 106\n"
     ]
    }
   ],
   "source": [
    "print(len(y_train),len(y_test))"
   ]
  },
  {
   "cell_type": "markdown",
   "metadata": {},
   "source": [
    "Ou seja, temos 246 dados (70%) no treino e 106 dados (30%) no teste."
   ]
  },
  {
   "cell_type": "code",
   "execution_count": 18,
   "metadata": {},
   "outputs": [
    {
     "name": "stdout",
     "output_type": "stream",
     "text": [
      "Proporção em y:\n",
      "0    0.536932\n",
      "1    0.463068\n",
      "Name: ICU, dtype: float64, \n",
      "\n",
      "Proporção em y_train:\n",
      "0    0.536585\n",
      "1    0.463415\n",
      "Name: ICU, dtype: float64, \n",
      "\n",
      "Proporção em y_test:\n",
      "0    0.537736\n",
      "1    0.462264\n",
      "Name: ICU, dtype: float64\n"
     ]
    }
   ],
   "source": [
    "print(f'Proporção em y:\\n{y.value_counts(normalize=True)}, \\n\\nProporção em y_train:\\n{y_train.value_counts(normalize=True)}, \\n\\nProporção em y_test:\\n{y_test.value_counts(normalize=True)}')"
   ]
  },
  {
   "cell_type": "markdown",
   "metadata": {},
   "source": [
    "Além disso, a proporção entre pacientes que foram para a UTI ou não tanto no treino quanto no teste é aproximadamente a mesma da variável y."
   ]
  },
  {
   "cell_type": "markdown",
   "metadata": {},
   "source": [
    "#### Baseline"
   ]
  },
  {
   "cell_type": "markdown",
   "metadata": {},
   "source": [
    "Para poder dizer se a acurácia do modelo utilizado está 'boa' ou não, vamos começar determinando uma linha de base para a acurácia através de um Dummy Classifier, onde o modelo sempre vai chutar o valor mais frequente em y como predição para os dados de teste, ignorando as features (x). Qualquer outro modelo que formos considerar deverá ter uma acurácia melhor do que o Dummy Classifier."
   ]
  },
  {
   "cell_type": "code",
   "execution_count": 19,
   "metadata": {},
   "outputs": [
    {
     "name": "stdout",
     "output_type": "stream",
     "text": [
      "Taxa de acerto: 53.8%\n"
     ]
    }
   ],
   "source": [
    "np.random.seed(5678)\n",
    "dummy_model = DummyClassifier(strategy='most_frequent')\n",
    "dummy_model.fit(x_train, y_train)\n",
    "dummy_y_prediction=dummy_model.predict(x_test)\n",
    "print(f'Taxa de acerto: {\"%.1f\" %(accuracy_score(y_test, dummy_y_prediction)*100)}%')"
   ]
  },
  {
   "cell_type": "markdown",
   "metadata": {},
   "source": [
    "Sem nenhuma surpresa, como dividimos os dados de treino e teste com a mesma propoção de zeros e uns entre eles, retornar sempre o valor mais frequente resulta em uma taxa de acerto igual à proporção do valor mais frequente, ou seja, resulta em uma taxa de acerto igual à proporção de zeros (53.8%)."
   ]
  },
  {
   "cell_type": "markdown",
   "metadata": {},
   "source": [
    "#### Selecionando o modelo"
   ]
  },
  {
   "cell_type": "markdown",
   "metadata": {},
   "source": [
    "Nesta seção vamos analisar diversos modelos presentes no sklearn e selecionar o(s) que apresentar(em) o(s) melhor(es) resultado(s). \n",
    "\n",
    "O primeiro método de seleção será feito da seguinte maneira:\n",
    "- Os dados serão divididos usando train_test_split()\n",
    "- Os parâmetros dos modelos não serão alterados, ou seja, usaremos os parâmetros 'default' para cada modelo. A escolha dos parâmetros será feita posteriormente apenas para o modelo que apresentar o melhor resultado nesta comparação inicial.\n",
    "- Todas as features serão consideradas nos dados x_train e x_test, apenas posteriormente selecionaremos as melhores features.\n",
    "- O modelo deve apresentar uma taxa de acerto maior que 53.8%, a taxa de baseline.\n",
    "- A matriz de confusão também será utilizada para comparar os modelos. Será considerado que um predição de não necessidade de atendimento de UTI enquanto que o paciente necessitou de atendimento, ou seja, um falso negativo, terá um peso mais negativo no momento da seleção do modelo do que um falso positivo, ou seja, o modelo previu a necessidade de atendimento de UTI enquanto que na realidade o paciente não precisou deste atendimento.\n",
    "\n",
    "O segundo método de seleção será feito da seguinte maneira:\n",
    "- Os dados serão divididos usando cross_validate() e RepeatedStratifiedKFold()\n",
    "- Os parâmetros dos modelos, como no primeiro método, não serão alterados.\n",
    "- Todas as features serão utilizadas.\n",
    "- A taxa de acerto será a média da taxas calculadas para cada vez que o algoritmo for rodado (será utilizado n_split=5 com n_repeats=10).\n",
    "- O modelo deve apresentar uma taxa de acerto maior que 53.8%.\n",
    "\n",
    "Ao final, o modelo com o melhor resultado no primeiro método e o modelo com o melhor resultado no segundo método serão selecionados. Se o mesmo modelo obtiver o melhor resultado nos dois métodos apenas este modelo será considerado nas próximas análises."
   ]
  },
  {
   "cell_type": "markdown",
   "metadata": {},
   "source": [
    "##### LogisticRegression"
   ]
  },
  {
   "cell_type": "markdown",
   "metadata": {},
   "source": [
    "Método 1"
   ]
  },
  {
   "cell_type": "code",
   "execution_count": 20,
   "metadata": {},
   "outputs": [
    {
     "name": "stdout",
     "output_type": "stream",
     "text": [
      "Taxa de acerto: 75.5%\n"
     ]
    },
    {
     "data": {
      "image/png": "[encoded data removed]",
      "text/plain": [
       "<Figure size 1000x600 with 2 Axes>"
      ]
     },
     "metadata": {},
     "output_type": "display_data"
    }
   ],
   "source": [
    "raw_model(LogisticRegression)"
   ]
  },
  {
   "cell_type": "code",
   "execution_count": 21,
   "metadata": {},
   "outputs": [
    {
     "name": "stdout",
     "output_type": "stream",
     "text": [
      "Taxa de falso negativo: 32.7%\n"
     ]
    }
   ],
   "source": [
    "confusion_matrix_false_negative(33,16)"
   ]
  },
  {
   "cell_type": "markdown",
   "metadata": {},
   "source": [
    "Para o modelo logistic regression temos uma acurácia de 75.5% e uma taxa de falso negativo de 32.7%."
   ]
  },
  {
   "cell_type": "markdown",
   "metadata": {},
   "source": [
    "Método 2"
   ]
  },
  {
   "cell_type": "code",
   "execution_count": 22,
   "metadata": {},
   "outputs": [
    {
     "name": "stdout",
     "output_type": "stream",
     "text": [
      "Acurácia média 71.1%\n",
      "Intervalo de acurácia: 60.2% - 82.0%\n"
     ]
    }
   ],
   "source": [
    "cross_validate_raw_model(LogisticRegression)"
   ]
  },
  {
   "cell_type": "markdown",
   "metadata": {},
   "source": [
    "Utilizando o segundo método temos uma acurácia média de 71.1%."
   ]
  },
  {
   "cell_type": "markdown",
   "metadata": {},
   "source": [
    "##### SVC"
   ]
  },
  {
   "cell_type": "markdown",
   "metadata": {},
   "source": [
    "Método 1"
   ]
  },
  {
   "cell_type": "code",
   "execution_count": 23,
   "metadata": {},
   "outputs": [
    {
     "name": "stdout",
     "output_type": "stream",
     "text": [
      "Taxa de acerto: 62.3%\n"
     ]
    },
    {
     "data": {
      "image/png": "[encoded data removed]",
      "text/plain": [
       "<Figure size 1000x600 with 2 Axes>"
      ]
     },
     "metadata": {},
     "output_type": "display_data"
    }
   ],
   "source": [
    "raw_model(SVC)"
   ]
  },
  {
   "cell_type": "code",
   "execution_count": 24,
   "metadata": {},
   "outputs": [
    {
     "name": "stdout",
     "output_type": "stream",
     "text": [
      "Taxa de falso negativo: 49.0%\n"
     ]
    }
   ],
   "source": [
    "confusion_matrix_false_negative(25,24)"
   ]
  },
  {
   "cell_type": "markdown",
   "metadata": {},
   "source": [
    "Para o modelo SVC temos uma acurácia de 62.3% e uma taxa de falso negativo de 49.0%."
   ]
  },
  {
   "cell_type": "markdown",
   "metadata": {},
   "source": [
    "Método 2"
   ]
  },
  {
   "cell_type": "code",
   "execution_count": 25,
   "metadata": {},
   "outputs": [
    {
     "name": "stdout",
     "output_type": "stream",
     "text": [
      "Acurácia média 63.6%\n",
      "Intervalo de acurácia: 54.3% - 72.8%\n"
     ]
    }
   ],
   "source": [
    "cross_validate_raw_model(SVC)"
   ]
  },
  {
   "cell_type": "markdown",
   "metadata": {},
   "source": [
    "Utilizando o segundo método temos uma acurácia média de 63.6%."
   ]
  },
  {
   "cell_type": "markdown",
   "metadata": {},
   "source": [
    "##### LinearSVC"
   ]
  },
  {
   "cell_type": "markdown",
   "metadata": {},
   "source": [
    "Método 1"
   ]
  },
  {
   "cell_type": "code",
   "execution_count": 26,
   "metadata": {},
   "outputs": [
    {
     "name": "stdout",
     "output_type": "stream",
     "text": [
      "Taxa de acerto: 53.8%\n"
     ]
    },
    {
     "data": {
      "image/png": "[encoded data removed]",
      "text/plain": [
       "<Figure size 1000x600 with 2 Axes>"
      ]
     },
     "metadata": {},
     "output_type": "display_data"
    }
   ],
   "source": [
    "raw_model(LinearSVC)"
   ]
  },
  {
   "cell_type": "code",
   "execution_count": 27,
   "metadata": {},
   "outputs": [
    {
     "name": "stdout",
     "output_type": "stream",
     "text": [
      "Taxa de falso negativo: 100.0%\n"
     ]
    }
   ],
   "source": [
    "confusion_matrix_false_negative(0,49)"
   ]
  },
  {
   "cell_type": "markdown",
   "metadata": {},
   "source": [
    "Para o modelo Linear SVC temos uma acurácia de 53.8% e uma taxa de falso negativo de 100%. Podemos notar que este modelo previu todos os pacientes como não precisando de UTI, ou seja, o modelo fez exatamente a mesma predição que o DummyClassfier."
   ]
  },
  {
   "cell_type": "markdown",
   "metadata": {},
   "source": [
    "Método 2"
   ]
  },
  {
   "cell_type": "code",
   "execution_count": 28,
   "metadata": {},
   "outputs": [
    {
     "name": "stdout",
     "output_type": "stream",
     "text": [
      "Acurácia média 61.5%\n",
      "Intervalo de acurácia: 43.4% - 79.6%\n"
     ]
    }
   ],
   "source": [
    "cross_validate_raw_model(LinearSVC)"
   ]
  },
  {
   "cell_type": "markdown",
   "metadata": {},
   "source": [
    "Utilizando o segundo método temos uma acurácia média de 61.5%."
   ]
  },
  {
   "cell_type": "markdown",
   "metadata": {},
   "source": [
    "##### DecisionTree"
   ]
  },
  {
   "cell_type": "markdown",
   "metadata": {},
   "source": [
    "Método 1"
   ]
  },
  {
   "cell_type": "code",
   "execution_count": 29,
   "metadata": {},
   "outputs": [
    {
     "name": "stdout",
     "output_type": "stream",
     "text": [
      "Taxa de acerto: 70.8%\n"
     ]
    },
    {
     "data": {
      "image/png": "[encoded data removed]",
      "text/plain": [
       "<Figure size 1000x600 with 2 Axes>"
      ]
     },
     "metadata": {},
     "output_type": "display_data"
    }
   ],
   "source": [
    "raw_model(DecisionTreeClassifier)"
   ]
  },
  {
   "cell_type": "code",
   "execution_count": 30,
   "metadata": {},
   "outputs": [
    {
     "name": "stdout",
     "output_type": "stream",
     "text": [
      "Taxa de falso negativo: 30.6%\n"
     ]
    }
   ],
   "source": [
    "confusion_matrix_false_negative(34,15)"
   ]
  },
  {
   "cell_type": "markdown",
   "metadata": {},
   "source": [
    "Para o modelo decision tree temos uma acurácia de 70.8% e uma taxa de falso negativo de 30.6%."
   ]
  },
  {
   "cell_type": "markdown",
   "metadata": {},
   "source": [
    "Método 2"
   ]
  },
  {
   "cell_type": "code",
   "execution_count": 31,
   "metadata": {},
   "outputs": [
    {
     "name": "stdout",
     "output_type": "stream",
     "text": [
      "Acurácia média 64.2%\n",
      "Intervalo de acurácia: 52.7% - 75.7%\n"
     ]
    }
   ],
   "source": [
    "cross_validate_raw_model(DecisionTreeClassifier)"
   ]
  },
  {
   "cell_type": "markdown",
   "metadata": {},
   "source": [
    "Utilizando o segundo método temos uma acurácia média de 64.2%."
   ]
  },
  {
   "cell_type": "markdown",
   "metadata": {},
   "source": [
    "##### RandomForest"
   ]
  },
  {
   "cell_type": "markdown",
   "metadata": {},
   "source": [
    "Método 1"
   ]
  },
  {
   "cell_type": "code",
   "execution_count": 32,
   "metadata": {},
   "outputs": [
    {
     "name": "stdout",
     "output_type": "stream",
     "text": [
      "Taxa de acerto: 78.3%\n"
     ]
    },
    {
     "data": {
      "image/png": "[encoded data removed]",
      "text/plain": [
       "<Figure size 1000x600 with 2 Axes>"
      ]
     },
     "metadata": {},
     "output_type": "display_data"
    }
   ],
   "source": [
    "raw_model(RandomForestClassifier)"
   ]
  },
  {
   "cell_type": "code",
   "execution_count": 33,
   "metadata": {},
   "outputs": [
    {
     "name": "stdout",
     "output_type": "stream",
     "text": [
      "Taxa de falso negativo: 28.6%\n"
     ]
    }
   ],
   "source": [
    "confusion_matrix_false_negative(35,14)"
   ]
  },
  {
   "cell_type": "markdown",
   "metadata": {},
   "source": [
    "Para o modelo random forest temos uma acurácia de 78.3% e uma taxa de falso negativo de 28.6%."
   ]
  },
  {
   "cell_type": "markdown",
   "metadata": {},
   "source": [
    "Método 2"
   ]
  },
  {
   "cell_type": "code",
   "execution_count": 34,
   "metadata": {},
   "outputs": [
    {
     "name": "stdout",
     "output_type": "stream",
     "text": [
      "Acurácia média 72.4%\n",
      "Intervalo de acurácia: 62.1% - 82.7%\n"
     ]
    }
   ],
   "source": [
    "cross_validate_raw_model(RandomForestClassifier)"
   ]
  },
  {
   "cell_type": "markdown",
   "metadata": {},
   "source": [
    "Utilizando o segundo método temos uma acurácia média de 72.4%."
   ]
  },
  {
   "cell_type": "markdown",
   "metadata": {},
   "source": [
    "##### GaussianProcess"
   ]
  },
  {
   "cell_type": "markdown",
   "metadata": {},
   "source": [
    "Método 1"
   ]
  },
  {
   "cell_type": "code",
   "execution_count": 35,
   "metadata": {},
   "outputs": [
    {
     "name": "stdout",
     "output_type": "stream",
     "text": [
      "Taxa de acerto: 54.7%\n"
     ]
    },
    {
     "data": {
      "image/png": "[encoded data removed]",
      "text/plain": [
       "<Figure size 1000x600 with 2 Axes>"
      ]
     },
     "metadata": {},
     "output_type": "display_data"
    }
   ],
   "source": [
    "raw_model(GaussianProcessClassifier)"
   ]
  },
  {
   "cell_type": "code",
   "execution_count": 36,
   "metadata": {},
   "outputs": [
    {
     "name": "stdout",
     "output_type": "stream",
     "text": [
      "Taxa de falso negativo: 53.1%\n"
     ]
    }
   ],
   "source": [
    "confusion_matrix_false_negative(23,26)"
   ]
  },
  {
   "cell_type": "markdown",
   "metadata": {},
   "source": [
    "Para o modelo Gaussian process temos uma acurácia de 54.7% e uma taxa de falso negativo de 53.1%."
   ]
  },
  {
   "cell_type": "markdown",
   "metadata": {},
   "source": [
    "Método 2"
   ]
  },
  {
   "cell_type": "code",
   "execution_count": 37,
   "metadata": {},
   "outputs": [
    {
     "name": "stdout",
     "output_type": "stream",
     "text": [
      "Acurácia média 55.7%\n",
      "Intervalo de acurácia: 45.3% - 66.0%\n"
     ]
    }
   ],
   "source": [
    "cross_validate_raw_model(GaussianProcessClassifier)"
   ]
  },
  {
   "cell_type": "markdown",
   "metadata": {},
   "source": [
    "Utilizando o segundo método temos uma acurácia média de 55.7%."
   ]
  },
  {
   "cell_type": "markdown",
   "metadata": {},
   "source": [
    "##### KNeighbors"
   ]
  },
  {
   "cell_type": "markdown",
   "metadata": {},
   "source": [
    "Método 1"
   ]
  },
  {
   "cell_type": "code",
   "execution_count": 38,
   "metadata": {},
   "outputs": [
    {
     "name": "stdout",
     "output_type": "stream",
     "text": [
      "Taxa de acerto: 51.9%\n"
     ]
    },
    {
     "data": {
      "image/png": "[encoded data removed]",
      "text/plain": [
       "<Figure size 1000x600 with 2 Axes>"
      ]
     },
     "metadata": {},
     "output_type": "display_data"
    }
   ],
   "source": [
    "raw_model(KNeighborsClassifier)"
   ]
  },
  {
   "cell_type": "code",
   "execution_count": 39,
   "metadata": {},
   "outputs": [
    {
     "name": "stdout",
     "output_type": "stream",
     "text": [
      "Taxa de falso negativo: 61.2%\n"
     ]
    }
   ],
   "source": [
    "confusion_matrix_false_negative(19,30)"
   ]
  },
  {
   "cell_type": "markdown",
   "metadata": {},
   "source": [
    "Para o modelo k-neighbors temos uma acurácia de 51.9% e uma taxa de falso negativo de 61.2%."
   ]
  },
  {
   "cell_type": "markdown",
   "metadata": {},
   "source": [
    "Método 2"
   ]
  },
  {
   "cell_type": "code",
   "execution_count": 40,
   "metadata": {},
   "outputs": [
    {
     "name": "stdout",
     "output_type": "stream",
     "text": [
      "Acurácia média 58.8%\n",
      "Intervalo de acurácia: 48.5% - 69.1%\n"
     ]
    }
   ],
   "source": [
    "cross_validate_raw_model(KNeighborsClassifier)"
   ]
  },
  {
   "cell_type": "markdown",
   "metadata": {},
   "source": [
    "Utilizando o segundo método temos uma acurácia média de 58.8%."
   ]
  },
  {
   "cell_type": "markdown",
   "metadata": {},
   "source": [
    "##### Modelo selecionado"
   ]
  },
  {
   "cell_type": "markdown",
   "metadata": {},
   "source": [
    "O modelo RandomForest foi o que apresentou a melhor acurácia e a menor taxa de falso negativos no primeiro método e a melhor acurácia média no segundo método, portanto este é o modelo selecionado para as próximas análises."
   ]
  },
  {
   "cell_type": "markdown",
   "metadata": {},
   "source": [
    "#### Selecionando as features"
   ]
  },
  {
   "cell_type": "markdown",
   "metadata": {},
   "source": [
    "Para selecionar as features vamos implementar dois processos. No primeiro, usando a matriz de correlação, vamos eliminar as features em que a correlação com alguma outra feature seja maior que 0.90, como implementado no curso. Após isso vamos utilizar a seleção de feature RFECV do sklearn para que o número ideal de features seja automaticamente selecionado. O primeiro processo de eliminar features altamente correlacionadas ainda é necessário pois o RFECV não as elimina."
   ]
  },
  {
   "cell_type": "markdown",
   "metadata": {},
   "source": [
    "##### Matriz de correlação"
   ]
  },
  {
   "cell_type": "markdown",
   "metadata": {},
   "source": [
    "Aplicando o método desenvolvido no curso para eliminação de features com alta correlação (>0.90), onde features categóricas como PATIENT_VISIT_IDENTIFIER e GENDER não foram consideradas para eliminação, pois não faz sentido compararmos a correlação entre o ID e o sexo do paciente, por exemplo, obtemos:"
   ]
  },
  {
   "cell_type": "code",
   "execution_count": 41,
   "metadata": {},
   "outputs": [
    {
     "data": {
      "text/html": [
       "<div>\n",
       "<style scoped>\n",
       "    .dataframe tbody tr th:only-of-type {\n",
       "        vertical-align: middle;\n",
       "    }\n",
       "\n",
       "    .dataframe tbody tr th {\n",
       "        vertical-align: top;\n",
       "    }\n",
       "\n",
       "    .dataframe thead th {\n",
       "        text-align: right;\n",
       "    }\n",
       "</style>\n",
       "<table border=\"1\" class=\"dataframe\">\n",
       "  <thead>\n",
       "    <tr style=\"text-align: right;\">\n",
       "      <th></th>\n",
       "      <th>PATIENT_VISIT_IDENTIFIER</th>\n",
       "      <th>AGE_ABOVE65</th>\n",
       "      <th>AGE_PERCENTIL</th>\n",
       "      <th>GENDER</th>\n",
       "      <th>DISEASE GROUPING 1</th>\n",
       "      <th>DISEASE GROUPING 2</th>\n",
       "      <th>DISEASE GROUPING 3</th>\n",
       "      <th>DISEASE GROUPING 4</th>\n",
       "      <th>DISEASE GROUPING 5</th>\n",
       "      <th>DISEASE GROUPING 6</th>\n",
       "      <th>...</th>\n",
       "      <th>RESPIRATORY_RATE_MEAN</th>\n",
       "      <th>TEMPERATURE_MEAN</th>\n",
       "      <th>OXYGEN_SATURATION_MEAN</th>\n",
       "      <th>BLOODPRESSURE_DIASTOLIC_DIFF</th>\n",
       "      <th>BLOODPRESSURE_SISTOLIC_DIFF</th>\n",
       "      <th>HEART_RATE_DIFF</th>\n",
       "      <th>RESPIRATORY_RATE_DIFF</th>\n",
       "      <th>TEMPERATURE_DIFF</th>\n",
       "      <th>OXYGEN_SATURATION_DIFF</th>\n",
       "      <th>ICU</th>\n",
       "    </tr>\n",
       "  </thead>\n",
       "  <tbody>\n",
       "    <tr>\n",
       "      <th>PATIENT_VISIT_IDENTIFIER</th>\n",
       "      <td>1.000000</td>\n",
       "      <td>-0.017361</td>\n",
       "      <td>0.031159</td>\n",
       "      <td>0.071961</td>\n",
       "      <td>0.058683</td>\n",
       "      <td>0.022828</td>\n",
       "      <td>0.045907</td>\n",
       "      <td>-0.026074</td>\n",
       "      <td>-0.005678</td>\n",
       "      <td>0.021964</td>\n",
       "      <td>...</td>\n",
       "      <td>0.021779</td>\n",
       "      <td>-0.011847</td>\n",
       "      <td>-0.023686</td>\n",
       "      <td>-0.040615</td>\n",
       "      <td>-0.082139</td>\n",
       "      <td>-0.038959</td>\n",
       "      <td>-0.046410</td>\n",
       "      <td>-0.045353</td>\n",
       "      <td>-0.018859</td>\n",
       "      <td>-0.041382</td>\n",
       "    </tr>\n",
       "    <tr>\n",
       "      <th>AGE_ABOVE65</th>\n",
       "      <td>-0.017361</td>\n",
       "      <td>1.000000</td>\n",
       "      <td>0.874773</td>\n",
       "      <td>0.031830</td>\n",
       "      <td>0.280326</td>\n",
       "      <td>0.051308</td>\n",
       "      <td>0.165905</td>\n",
       "      <td>0.032608</td>\n",
       "      <td>0.314536</td>\n",
       "      <td>0.003930</td>\n",
       "      <td>...</td>\n",
       "      <td>0.104568</td>\n",
       "      <td>-0.086413</td>\n",
       "      <td>-0.109800</td>\n",
       "      <td>-0.012655</td>\n",
       "      <td>-0.026278</td>\n",
       "      <td>0.012440</td>\n",
       "      <td>-0.005558</td>\n",
       "      <td>0.028262</td>\n",
       "      <td>-0.030515</td>\n",
       "      <td>0.291010</td>\n",
       "    </tr>\n",
       "    <tr>\n",
       "      <th>AGE_PERCENTIL</th>\n",
       "      <td>0.031159</td>\n",
       "      <td>0.874773</td>\n",
       "      <td>1.000000</td>\n",
       "      <td>0.056211</td>\n",
       "      <td>0.294671</td>\n",
       "      <td>0.058015</td>\n",
       "      <td>0.134016</td>\n",
       "      <td>0.014480</td>\n",
       "      <td>0.334920</td>\n",
       "      <td>-0.035015</td>\n",
       "      <td>...</td>\n",
       "      <td>0.186620</td>\n",
       "      <td>-0.057003</td>\n",
       "      <td>-0.126255</td>\n",
       "      <td>-0.014140</td>\n",
       "      <td>-0.049698</td>\n",
       "      <td>-0.018826</td>\n",
       "      <td>-0.007992</td>\n",
       "      <td>-0.006030</td>\n",
       "      <td>-0.040314</td>\n",
       "      <td>0.351071</td>\n",
       "    </tr>\n",
       "    <tr>\n",
       "      <th>GENDER</th>\n",
       "      <td>0.071961</td>\n",
       "      <td>0.031830</td>\n",
       "      <td>0.056211</td>\n",
       "      <td>1.000000</td>\n",
       "      <td>0.036528</td>\n",
       "      <td>-0.001784</td>\n",
       "      <td>-0.064757</td>\n",
       "      <td>-0.069768</td>\n",
       "      <td>-0.019812</td>\n",
       "      <td>-0.020573</td>\n",
       "      <td>...</td>\n",
       "      <td>-0.111659</td>\n",
       "      <td>-0.137264</td>\n",
       "      <td>0.115275</td>\n",
       "      <td>-0.006168</td>\n",
       "      <td>-0.019919</td>\n",
       "      <td>0.079236</td>\n",
       "      <td>-0.016903</td>\n",
       "      <td>-0.012423</td>\n",
       "      <td>0.028744</td>\n",
       "      <td>-0.117938</td>\n",
       "    </tr>\n",
       "    <tr>\n",
       "      <th>DISEASE GROUPING 1</th>\n",
       "      <td>0.058683</td>\n",
       "      <td>0.280326</td>\n",
       "      <td>0.294671</td>\n",
       "      <td>0.036528</td>\n",
       "      <td>1.000000</td>\n",
       "      <td>0.196347</td>\n",
       "      <td>0.278271</td>\n",
       "      <td>0.017529</td>\n",
       "      <td>0.340370</td>\n",
       "      <td>0.202849</td>\n",
       "      <td>...</td>\n",
       "      <td>0.089330</td>\n",
       "      <td>-0.035513</td>\n",
       "      <td>0.025573</td>\n",
       "      <td>-0.054710</td>\n",
       "      <td>-0.053091</td>\n",
       "      <td>0.129220</td>\n",
       "      <td>-0.028964</td>\n",
       "      <td>-0.041099</td>\n",
       "      <td>-0.056287</td>\n",
       "      <td>0.071825</td>\n",
       "    </tr>\n",
       "    <tr>\n",
       "      <th>...</th>\n",
       "      <td>...</td>\n",
       "      <td>...</td>\n",
       "      <td>...</td>\n",
       "      <td>...</td>\n",
       "      <td>...</td>\n",
       "      <td>...</td>\n",
       "      <td>...</td>\n",
       "      <td>...</td>\n",
       "      <td>...</td>\n",
       "      <td>...</td>\n",
       "      <td>...</td>\n",
       "      <td>...</td>\n",
       "      <td>...</td>\n",
       "      <td>...</td>\n",
       "      <td>...</td>\n",
       "      <td>...</td>\n",
       "      <td>...</td>\n",
       "      <td>...</td>\n",
       "      <td>...</td>\n",
       "      <td>...</td>\n",
       "      <td>...</td>\n",
       "    </tr>\n",
       "    <tr>\n",
       "      <th>HEART_RATE_DIFF</th>\n",
       "      <td>-0.038959</td>\n",
       "      <td>0.012440</td>\n",
       "      <td>-0.018826</td>\n",
       "      <td>0.079236</td>\n",
       "      <td>0.129220</td>\n",
       "      <td>0.014222</td>\n",
       "      <td>-0.015035</td>\n",
       "      <td>-0.023554</td>\n",
       "      <td>0.011404</td>\n",
       "      <td>0.005530</td>\n",
       "      <td>...</td>\n",
       "      <td>-0.052509</td>\n",
       "      <td>0.016491</td>\n",
       "      <td>0.098880</td>\n",
       "      <td>0.397441</td>\n",
       "      <td>0.347893</td>\n",
       "      <td>1.000000</td>\n",
       "      <td>0.273000</td>\n",
       "      <td>0.296808</td>\n",
       "      <td>0.303616</td>\n",
       "      <td>-0.013554</td>\n",
       "    </tr>\n",
       "    <tr>\n",
       "      <th>RESPIRATORY_RATE_DIFF</th>\n",
       "      <td>-0.046410</td>\n",
       "      <td>-0.005558</td>\n",
       "      <td>-0.007992</td>\n",
       "      <td>-0.016903</td>\n",
       "      <td>-0.028964</td>\n",
       "      <td>-0.001618</td>\n",
       "      <td>-0.013900</td>\n",
       "      <td>0.016131</td>\n",
       "      <td>-0.045482</td>\n",
       "      <td>-0.042573</td>\n",
       "      <td>...</td>\n",
       "      <td>0.144543</td>\n",
       "      <td>0.146173</td>\n",
       "      <td>0.010051</td>\n",
       "      <td>0.338943</td>\n",
       "      <td>0.367821</td>\n",
       "      <td>0.273000</td>\n",
       "      <td>1.000000</td>\n",
       "      <td>0.286375</td>\n",
       "      <td>0.331205</td>\n",
       "      <td>0.093877</td>\n",
       "    </tr>\n",
       "    <tr>\n",
       "      <th>TEMPERATURE_DIFF</th>\n",
       "      <td>-0.045353</td>\n",
       "      <td>0.028262</td>\n",
       "      <td>-0.006030</td>\n",
       "      <td>-0.012423</td>\n",
       "      <td>-0.041099</td>\n",
       "      <td>-0.024705</td>\n",
       "      <td>0.000746</td>\n",
       "      <td>0.032550</td>\n",
       "      <td>-0.081749</td>\n",
       "      <td>0.004270</td>\n",
       "      <td>...</td>\n",
       "      <td>-0.031482</td>\n",
       "      <td>0.089025</td>\n",
       "      <td>-0.006765</td>\n",
       "      <td>0.381524</td>\n",
       "      <td>0.437913</td>\n",
       "      <td>0.296808</td>\n",
       "      <td>0.286375</td>\n",
       "      <td>1.000000</td>\n",
       "      <td>0.507736</td>\n",
       "      <td>-0.006336</td>\n",
       "    </tr>\n",
       "    <tr>\n",
       "      <th>OXYGEN_SATURATION_DIFF</th>\n",
       "      <td>-0.018859</td>\n",
       "      <td>-0.030515</td>\n",
       "      <td>-0.040314</td>\n",
       "      <td>0.028744</td>\n",
       "      <td>-0.056287</td>\n",
       "      <td>0.085122</td>\n",
       "      <td>0.005011</td>\n",
       "      <td>-0.026121</td>\n",
       "      <td>-0.098081</td>\n",
       "      <td>-0.033707</td>\n",
       "      <td>...</td>\n",
       "      <td>-0.023352</td>\n",
       "      <td>0.036438</td>\n",
       "      <td>-0.021277</td>\n",
       "      <td>0.537397</td>\n",
       "      <td>0.507730</td>\n",
       "      <td>0.303616</td>\n",
       "      <td>0.331205</td>\n",
       "      <td>0.507736</td>\n",
       "      <td>1.000000</td>\n",
       "      <td>0.020897</td>\n",
       "    </tr>\n",
       "    <tr>\n",
       "      <th>ICU</th>\n",
       "      <td>-0.041382</td>\n",
       "      <td>0.291010</td>\n",
       "      <td>0.351071</td>\n",
       "      <td>-0.117938</td>\n",
       "      <td>0.071825</td>\n",
       "      <td>0.087753</td>\n",
       "      <td>0.122514</td>\n",
       "      <td>0.112573</td>\n",
       "      <td>0.122200</td>\n",
       "      <td>-0.026684</td>\n",
       "      <td>...</td>\n",
       "      <td>0.207911</td>\n",
       "      <td>0.086764</td>\n",
       "      <td>-0.147612</td>\n",
       "      <td>0.065228</td>\n",
       "      <td>0.107106</td>\n",
       "      <td>-0.013554</td>\n",
       "      <td>0.093877</td>\n",
       "      <td>-0.006336</td>\n",
       "      <td>0.020897</td>\n",
       "      <td>1.000000</td>\n",
       "    </tr>\n",
       "  </tbody>\n",
       "</table>\n",
       "<p>96 rows × 96 columns</p>\n",
       "</div>"
      ],
      "text/plain": [
       "                          PATIENT_VISIT_IDENTIFIER  AGE_ABOVE65  \\\n",
       "PATIENT_VISIT_IDENTIFIER                  1.000000    -0.017361   \n",
       "AGE_ABOVE65                              -0.017361     1.000000   \n",
       "AGE_PERCENTIL                             0.031159     0.874773   \n",
       "GENDER                                    0.071961     0.031830   \n",
       "DISEASE GROUPING 1                        0.058683     0.280326   \n",
       "...                                            ...          ...   \n",
       "HEART_RATE_DIFF                          -0.038959     0.012440   \n",
       "RESPIRATORY_RATE_DIFF                    -0.046410    -0.005558   \n",
       "TEMPERATURE_DIFF                         -0.045353     0.028262   \n",
       "OXYGEN_SATURATION_DIFF                   -0.018859    -0.030515   \n",
       "ICU                                      -0.041382     0.291010   \n",
       "\n",
       "                          AGE_PERCENTIL    GENDER  DISEASE GROUPING 1  \\\n",
       "PATIENT_VISIT_IDENTIFIER       0.031159  0.071961            0.058683   \n",
       "AGE_ABOVE65                    0.874773  0.031830            0.280326   \n",
       "AGE_PERCENTIL                  1.000000  0.056211            0.294671   \n",
       "GENDER                         0.056211  1.000000            0.036528   \n",
       "DISEASE GROUPING 1             0.294671  0.036528            1.000000   \n",
       "...                                 ...       ...                 ...   \n",
       "HEART_RATE_DIFF               -0.018826  0.079236            0.129220   \n",
       "RESPIRATORY_RATE_DIFF         -0.007992 -0.016903           -0.028964   \n",
       "TEMPERATURE_DIFF              -0.006030 -0.012423           -0.041099   \n",
       "OXYGEN_SATURATION_DIFF        -0.040314  0.028744           -0.056287   \n",
       "ICU                            0.351071 -0.117938            0.071825   \n",
       "\n",
       "                          DISEASE GROUPING 2  DISEASE GROUPING 3  \\\n",
       "PATIENT_VISIT_IDENTIFIER            0.022828            0.045907   \n",
       "AGE_ABOVE65                         0.051308            0.165905   \n",
       "AGE_PERCENTIL                       0.058015            0.134016   \n",
       "GENDER                             -0.001784           -0.064757   \n",
       "DISEASE GROUPING 1                  0.196347            0.278271   \n",
       "...                                      ...                 ...   \n",
       "HEART_RATE_DIFF                     0.014222           -0.015035   \n",
       "RESPIRATORY_RATE_DIFF              -0.001618           -0.013900   \n",
       "TEMPERATURE_DIFF                   -0.024705            0.000746   \n",
       "OXYGEN_SATURATION_DIFF              0.085122            0.005011   \n",
       "ICU                                 0.087753            0.122514   \n",
       "\n",
       "                          DISEASE GROUPING 4  DISEASE GROUPING 5  \\\n",
       "PATIENT_VISIT_IDENTIFIER           -0.026074           -0.005678   \n",
       "AGE_ABOVE65                         0.032608            0.314536   \n",
       "AGE_PERCENTIL                       0.014480            0.334920   \n",
       "GENDER                             -0.069768           -0.019812   \n",
       "DISEASE GROUPING 1                  0.017529            0.340370   \n",
       "...                                      ...                 ...   \n",
       "HEART_RATE_DIFF                    -0.023554            0.011404   \n",
       "RESPIRATORY_RATE_DIFF               0.016131           -0.045482   \n",
       "TEMPERATURE_DIFF                    0.032550           -0.081749   \n",
       "OXYGEN_SATURATION_DIFF             -0.026121           -0.098081   \n",
       "ICU                                 0.112573            0.122200   \n",
       "\n",
       "                          DISEASE GROUPING 6  ...  RESPIRATORY_RATE_MEAN  \\\n",
       "PATIENT_VISIT_IDENTIFIER            0.021964  ...               0.021779   \n",
       "AGE_ABOVE65                         0.003930  ...               0.104568   \n",
       "AGE_PERCENTIL                      -0.035015  ...               0.186620   \n",
       "GENDER                             -0.020573  ...              -0.111659   \n",
       "DISEASE GROUPING 1                  0.202849  ...               0.089330   \n",
       "...                                      ...  ...                    ...   \n",
       "HEART_RATE_DIFF                     0.005530  ...              -0.052509   \n",
       "RESPIRATORY_RATE_DIFF              -0.042573  ...               0.144543   \n",
       "TEMPERATURE_DIFF                    0.004270  ...              -0.031482   \n",
       "OXYGEN_SATURATION_DIFF             -0.033707  ...              -0.023352   \n",
       "ICU                                -0.026684  ...               0.207911   \n",
       "\n",
       "                          TEMPERATURE_MEAN  OXYGEN_SATURATION_MEAN  \\\n",
       "PATIENT_VISIT_IDENTIFIER         -0.011847               -0.023686   \n",
       "AGE_ABOVE65                      -0.086413               -0.109800   \n",
       "AGE_PERCENTIL                    -0.057003               -0.126255   \n",
       "GENDER                           -0.137264                0.115275   \n",
       "DISEASE GROUPING 1               -0.035513                0.025573   \n",
       "...                                    ...                     ...   \n",
       "HEART_RATE_DIFF                   0.016491                0.098880   \n",
       "RESPIRATORY_RATE_DIFF             0.146173                0.010051   \n",
       "TEMPERATURE_DIFF                  0.089025               -0.006765   \n",
       "OXYGEN_SATURATION_DIFF            0.036438               -0.021277   \n",
       "ICU                               0.086764               -0.147612   \n",
       "\n",
       "                          BLOODPRESSURE_DIASTOLIC_DIFF  \\\n",
       "PATIENT_VISIT_IDENTIFIER                     -0.040615   \n",
       "AGE_ABOVE65                                  -0.012655   \n",
       "AGE_PERCENTIL                                -0.014140   \n",
       "GENDER                                       -0.006168   \n",
       "DISEASE GROUPING 1                           -0.054710   \n",
       "...                                                ...   \n",
       "HEART_RATE_DIFF                               0.397441   \n",
       "RESPIRATORY_RATE_DIFF                         0.338943   \n",
       "TEMPERATURE_DIFF                              0.381524   \n",
       "OXYGEN_SATURATION_DIFF                        0.537397   \n",
       "ICU                                           0.065228   \n",
       "\n",
       "                          BLOODPRESSURE_SISTOLIC_DIFF  HEART_RATE_DIFF  \\\n",
       "PATIENT_VISIT_IDENTIFIER                    -0.082139        -0.038959   \n",
       "AGE_ABOVE65                                 -0.026278         0.012440   \n",
       "AGE_PERCENTIL                               -0.049698        -0.018826   \n",
       "GENDER                                      -0.019919         0.079236   \n",
       "DISEASE GROUPING 1                          -0.053091         0.129220   \n",
       "...                                               ...              ...   \n",
       "HEART_RATE_DIFF                              0.347893         1.000000   \n",
       "RESPIRATORY_RATE_DIFF                        0.367821         0.273000   \n",
       "TEMPERATURE_DIFF                             0.437913         0.296808   \n",
       "OXYGEN_SATURATION_DIFF                       0.507730         0.303616   \n",
       "ICU                                          0.107106        -0.013554   \n",
       "\n",
       "                          RESPIRATORY_RATE_DIFF  TEMPERATURE_DIFF  \\\n",
       "PATIENT_VISIT_IDENTIFIER              -0.046410         -0.045353   \n",
       "AGE_ABOVE65                           -0.005558          0.028262   \n",
       "AGE_PERCENTIL                         -0.007992         -0.006030   \n",
       "GENDER                                -0.016903         -0.012423   \n",
       "DISEASE GROUPING 1                    -0.028964         -0.041099   \n",
       "...                                         ...               ...   \n",
       "HEART_RATE_DIFF                        0.273000          0.296808   \n",
       "RESPIRATORY_RATE_DIFF                  1.000000          0.286375   \n",
       "TEMPERATURE_DIFF                       0.286375          1.000000   \n",
       "OXYGEN_SATURATION_DIFF                 0.331205          0.507736   \n",
       "ICU                                    0.093877         -0.006336   \n",
       "\n",
       "                          OXYGEN_SATURATION_DIFF       ICU  \n",
       "PATIENT_VISIT_IDENTIFIER               -0.018859 -0.041382  \n",
       "AGE_ABOVE65                            -0.030515  0.291010  \n",
       "AGE_PERCENTIL                          -0.040314  0.351071  \n",
       "GENDER                                  0.028744 -0.117938  \n",
       "DISEASE GROUPING 1                     -0.056287  0.071825  \n",
       "...                                          ...       ...  \n",
       "HEART_RATE_DIFF                         0.303616 -0.013554  \n",
       "RESPIRATORY_RATE_DIFF                   0.331205  0.093877  \n",
       "TEMPERATURE_DIFF                        0.507736 -0.006336  \n",
       "OXYGEN_SATURATION_DIFF                  1.000000  0.020897  \n",
       "ICU                                     0.020897  1.000000  \n",
       "\n",
       "[96 rows x 96 columns]"
      ]
     },
     "execution_count": 41,
     "metadata": {},
     "output_type": "execute_result"
    }
   ],
   "source": [
    "corr_selected_filtered_raw_data().corr()"
   ]
  },
  {
   "cell_type": "markdown",
   "metadata": {},
   "source": [
    "Dados antes da eliminação das features:"
   ]
  },
  {
   "cell_type": "code",
   "execution_count": 42,
   "metadata": {},
   "outputs": [
    {
     "data": {
      "text/plain": [
       "(352, 231)"
      ]
     },
     "execution_count": 42,
     "metadata": {},
     "output_type": "execute_result"
    }
   ],
   "source": [
    "filtered_raw_data().shape"
   ]
  },
  {
   "cell_type": "markdown",
   "metadata": {},
   "source": [
    "Dados após a eliminaçào das features:"
   ]
  },
  {
   "cell_type": "code",
   "execution_count": 43,
   "metadata": {},
   "outputs": [
    {
     "data": {
      "text/plain": [
       "(352, 97)"
      ]
     },
     "execution_count": 43,
     "metadata": {},
     "output_type": "execute_result"
    }
   ],
   "source": [
    "corr_selected_filtered_raw_data().shape"
   ]
  },
  {
   "cell_type": "markdown",
   "metadata": {},
   "source": [
    "Ou seja, das 231 features iniciais, depois da eliminação das features altamente correlacionadas temos 97 features."
   ]
  },
  {
   "cell_type": "markdown",
   "metadata": {},
   "source": [
    "##### RFECV"
   ]
  },
  {
   "cell_type": "markdown",
   "metadata": {},
   "source": [
    "O método RFECV seleciona a melhor quantidade de features e as melhores features para que o modelo tenha a melhor acurácia. \n",
    "\n",
    "Para aplicar este método devemos primeiramente redefinir a variável $x$ considerando o resultado da análise da matriz de correlação:"
   ]
  },
  {
   "cell_type": "code",
   "execution_count": 44,
   "metadata": {},
   "outputs": [],
   "source": [
    "x = corr_selected_filtered_raw_data()[corr_selected_filtered_raw_data().columns].drop(['ICU', 'WINDOW'], axis = 'columns')"
   ]
  },
  {
   "cell_type": "code",
   "execution_count": 45,
   "metadata": {},
   "outputs": [
    {
     "data": {
      "text/plain": [
       "(352, 95)"
      ]
     },
     "execution_count": 45,
     "metadata": {},
     "output_type": "execute_result"
    }
   ],
   "source": [
    "x.shape"
   ]
  },
  {
   "cell_type": "markdown",
   "metadata": {},
   "source": [
    "Aplicando RFECV usando StratifiedKFold (o uso do RepeatedStratifiedKFold não é viável pois o algoritmo demora muito tempo para rodar), temos:"
   ]
  },
  {
   "cell_type": "code",
   "execution_count": 46,
   "metadata": {},
   "outputs": [],
   "source": [
    "result = RFECV_selected_filtered_raw_data()"
   ]
  },
  {
   "cell_type": "code",
   "execution_count": 47,
   "metadata": {},
   "outputs": [
    {
     "name": "stdout",
     "output_type": "stream",
     "text": [
      "Número de features selecionadas: 7\n"
     ]
    }
   ],
   "source": [
    "print(f'Número de features selecionadas: {result.n_features_}')"
   ]
  },
  {
   "cell_type": "code",
   "execution_count": 48,
   "metadata": {},
   "outputs": [
    {
     "name": "stdout",
     "output_type": "stream",
     "text": [
      "Features selecionadas: Index(['AGE_PERCENTIL', 'CREATININ_MEDIAN', 'LINFOCITOS_MEDIAN', 'PCR_MEDIAN',\n",
      "       'UREA_MEDIAN', 'BLOODPRESSURE_DIASTOLIC_MEAN', 'RESPIRATORY_RATE_MEAN'],\n",
      "      dtype='object')\n"
     ]
    }
   ],
   "source": [
    "print(f'Features selecionadas: {x.columns[result.support_]}')"
   ]
  },
  {
   "cell_type": "markdown",
   "metadata": {},
   "source": [
    "Note que, entre as features categóricas, o RFECV nos retornou AGE_PERCENTIL como a mais importante para o nosso modelo. A feature GENDER não está na lista de features escolhidas, ou seja, o sexo do paciente não é uma característica importante para decidir se o paciente precisará de atendimento em UTI ou não, mas a faixa de idade é importante. Portanto, a análise visual que fizemos anteriormente diverge parcialmente do resultado do RFECV.\n",
    "\n",
    "Outro ponto interessante é que o modelo selecionou a feature RESPIRATORY_RATE_MEAN como uma feature importante, e sabemos que problemas respiratórios são um dos sintomas da COVID-19 [[5]](https://www.cnnbrasil.com.br/saude/estudo-alta-carga-de-coronavirus-nos-pulmoes-tem-relacao-com-mortes-por-covid/)."
   ]
  },
  {
   "cell_type": "markdown",
   "metadata": {},
   "source": [
    "Plotando o processo de seleção de features temos:"
   ]
  },
  {
   "cell_type": "code",
   "execution_count": 50,
   "metadata": {},
   "outputs": [
    {
     "data": {
      "image/png": "[encoded data removed]",
      "text/plain": [
       "<Figure size 1000x600 with 1 Axes>"
      ]
     },
     "metadata": {},
     "output_type": "display_data"
    }
   ],
   "source": [
    "plot_features(result)"
   ]
  },
  {
   "cell_type": "markdown",
   "metadata": {},
   "source": [
    "Portanto, temos a acurácia máxima com 7 features selecionadas e, a partir deste valor, a acurácia do modelo diminui."
   ]
  },
  {
   "cell_type": "markdown",
   "metadata": {},
   "source": [
    "##### Calculando a acurácia do modelo"
   ]
  },
  {
   "cell_type": "markdown",
   "metadata": {},
   "source": [
    "Utilizando apenas as features selecionadas pelo RFECV, nesta seção calculamos a acurácia do modelo e a taxa de falso negativo e as comparamos com o resultado da seção 'Selecionando o modelo'."
   ]
  },
  {
   "cell_type": "markdown",
   "metadata": {},
   "source": [
    "Para isso temos que redefinir x, x_train e x_test:"
   ]
  },
  {
   "cell_type": "code",
   "execution_count": 51,
   "metadata": {},
   "outputs": [
    {
     "data": {
      "text/html": [
       "<div>\n",
       "<style scoped>\n",
       "    .dataframe tbody tr th:only-of-type {\n",
       "        vertical-align: middle;\n",
       "    }\n",
       "\n",
       "    .dataframe tbody tr th {\n",
       "        vertical-align: top;\n",
       "    }\n",
       "\n",
       "    .dataframe thead th {\n",
       "        text-align: right;\n",
       "    }\n",
       "</style>\n",
       "<table border=\"1\" class=\"dataframe\">\n",
       "  <thead>\n",
       "    <tr style=\"text-align: right;\">\n",
       "      <th></th>\n",
       "      <th></th>\n",
       "      <th>AGE_PERCENTIL</th>\n",
       "      <th>CREATININ_MEDIAN</th>\n",
       "      <th>LINFOCITOS_MEDIAN</th>\n",
       "      <th>PCR_MEDIAN</th>\n",
       "      <th>UREA_MEDIAN</th>\n",
       "      <th>BLOODPRESSURE_DIASTOLIC_MEAN</th>\n",
       "      <th>RESPIRATORY_RATE_MEAN</th>\n",
       "    </tr>\n",
       "  </thead>\n",
       "  <tbody>\n",
       "    <tr>\n",
       "      <th>0</th>\n",
       "      <th>0</th>\n",
       "      <td>60</td>\n",
       "      <td>-0.868365</td>\n",
       "      <td>-0.914938</td>\n",
       "      <td>-0.875236</td>\n",
       "      <td>-0.836145</td>\n",
       "      <td>0.086420</td>\n",
       "      <td>-0.593220</td>\n",
       "    </tr>\n",
       "    <tr>\n",
       "      <th>1</th>\n",
       "      <th>10</th>\n",
       "      <td>10</td>\n",
       "      <td>-0.912243</td>\n",
       "      <td>-0.908714</td>\n",
       "      <td>-0.939887</td>\n",
       "      <td>-0.836145</td>\n",
       "      <td>-0.489712</td>\n",
       "      <td>-0.645951</td>\n",
       "    </tr>\n",
       "    <tr>\n",
       "      <th>2</th>\n",
       "      <th>15</th>\n",
       "      <td>40</td>\n",
       "      <td>-0.968861</td>\n",
       "      <td>-0.836100</td>\n",
       "      <td>-0.503592</td>\n",
       "      <td>-0.937349</td>\n",
       "      <td>0.012346</td>\n",
       "      <td>-0.457627</td>\n",
       "    </tr>\n",
       "    <tr>\n",
       "      <th>3</th>\n",
       "      <th>20</th>\n",
       "      <td>10</td>\n",
       "      <td>-0.913659</td>\n",
       "      <td>-0.641079</td>\n",
       "      <td>-0.990926</td>\n",
       "      <td>-0.903614</td>\n",
       "      <td>0.333333</td>\n",
       "      <td>-0.593220</td>\n",
       "    </tr>\n",
       "    <tr>\n",
       "      <th>4</th>\n",
       "      <th>25</th>\n",
       "      <td>10</td>\n",
       "      <td>-0.891012</td>\n",
       "      <td>-0.340249</td>\n",
       "      <td>-0.997732</td>\n",
       "      <td>-0.884337</td>\n",
       "      <td>-0.037037</td>\n",
       "      <td>-0.525424</td>\n",
       "    </tr>\n",
       "    <tr>\n",
       "      <th>...</th>\n",
       "      <th>...</th>\n",
       "      <td>...</td>\n",
       "      <td>...</td>\n",
       "      <td>...</td>\n",
       "      <td>...</td>\n",
       "      <td>...</td>\n",
       "      <td>...</td>\n",
       "      <td>...</td>\n",
       "    </tr>\n",
       "    <tr>\n",
       "      <th>348</th>\n",
       "      <th>1900</th>\n",
       "      <td>40</td>\n",
       "      <td>-0.937721</td>\n",
       "      <td>-0.879668</td>\n",
       "      <td>-0.565974</td>\n",
       "      <td>-0.860241</td>\n",
       "      <td>-0.160494</td>\n",
       "      <td>-0.457627</td>\n",
       "    </tr>\n",
       "    <tr>\n",
       "      <th>349</th>\n",
       "      <th>1905</th>\n",
       "      <td>100</td>\n",
       "      <td>-0.886766</td>\n",
       "      <td>-0.921162</td>\n",
       "      <td>-0.993195</td>\n",
       "      <td>-0.855422</td>\n",
       "      <td>-0.407407</td>\n",
       "      <td>-0.457627</td>\n",
       "    </tr>\n",
       "    <tr>\n",
       "      <th>350</th>\n",
       "      <th>1910</th>\n",
       "      <td>50</td>\n",
       "      <td>-0.905166</td>\n",
       "      <td>-0.838174</td>\n",
       "      <td>-0.034405</td>\n",
       "      <td>-0.787952</td>\n",
       "      <td>0.012346</td>\n",
       "      <td>-0.457627</td>\n",
       "    </tr>\n",
       "    <tr>\n",
       "      <th>351</th>\n",
       "      <th>1915</th>\n",
       "      <td>40</td>\n",
       "      <td>-0.922151</td>\n",
       "      <td>-0.819502</td>\n",
       "      <td>-0.804159</td>\n",
       "      <td>-0.937349</td>\n",
       "      <td>0.086420</td>\n",
       "      <td>-0.661017</td>\n",
       "    </tr>\n",
       "    <tr>\n",
       "      <th>352</th>\n",
       "      <th>1920</th>\n",
       "      <td>50</td>\n",
       "      <td>-0.934890</td>\n",
       "      <td>-0.686722</td>\n",
       "      <td>-0.906238</td>\n",
       "      <td>-0.879518</td>\n",
       "      <td>0.012346</td>\n",
       "      <td>-0.525424</td>\n",
       "    </tr>\n",
       "  </tbody>\n",
       "</table>\n",
       "<p>352 rows × 7 columns</p>\n",
       "</div>"
      ],
      "text/plain": [
       "          AGE_PERCENTIL  CREATININ_MEDIAN  LINFOCITOS_MEDIAN  PCR_MEDIAN  \\\n",
       "0   0                60         -0.868365          -0.914938   -0.875236   \n",
       "1   10               10         -0.912243          -0.908714   -0.939887   \n",
       "2   15               40         -0.968861          -0.836100   -0.503592   \n",
       "3   20               10         -0.913659          -0.641079   -0.990926   \n",
       "4   25               10         -0.891012          -0.340249   -0.997732   \n",
       "...                 ...               ...                ...         ...   \n",
       "348 1900             40         -0.937721          -0.879668   -0.565974   \n",
       "349 1905            100         -0.886766          -0.921162   -0.993195   \n",
       "350 1910             50         -0.905166          -0.838174   -0.034405   \n",
       "351 1915             40         -0.922151          -0.819502   -0.804159   \n",
       "352 1920             50         -0.934890          -0.686722   -0.906238   \n",
       "\n",
       "          UREA_MEDIAN  BLOODPRESSURE_DIASTOLIC_MEAN  RESPIRATORY_RATE_MEAN  \n",
       "0   0       -0.836145                      0.086420              -0.593220  \n",
       "1   10      -0.836145                     -0.489712              -0.645951  \n",
       "2   15      -0.937349                      0.012346              -0.457627  \n",
       "3   20      -0.903614                      0.333333              -0.593220  \n",
       "4   25      -0.884337                     -0.037037              -0.525424  \n",
       "...               ...                           ...                    ...  \n",
       "348 1900    -0.860241                     -0.160494              -0.457627  \n",
       "349 1905    -0.855422                     -0.407407              -0.457627  \n",
       "350 1910    -0.787952                      0.012346              -0.457627  \n",
       "351 1915    -0.937349                      0.086420              -0.661017  \n",
       "352 1920    -0.879518                      0.012346              -0.525424  \n",
       "\n",
       "[352 rows x 7 columns]"
      ]
     },
     "execution_count": 51,
     "metadata": {},
     "output_type": "execute_result"
    }
   ],
   "source": [
    "selected_x_columns = corr_selected_filtered_raw_data()[corr_selected_filtered_raw_data().columns].drop(['ICU', 'WINDOW'], axis = 'columns').columns[result.support_]\n",
    "x = filtered_raw_data()[filtered_raw_data().columns].drop(columns=[column for column in filtered_raw_data().columns if column not in selected_x_columns])\n",
    "x"
   ]
  },
  {
   "cell_type": "code",
   "execution_count": 52,
   "metadata": {},
   "outputs": [],
   "source": [
    "np.random.seed(5678)\n",
    "x_train, x_test, y_train, y_test = train_test_split(x,y, test_size = 0.3, stratify=y)"
   ]
  },
  {
   "cell_type": "markdown",
   "metadata": {},
   "source": [
    "Método 1"
   ]
  },
  {
   "cell_type": "code",
   "execution_count": 53,
   "metadata": {},
   "outputs": [
    {
     "name": "stdout",
     "output_type": "stream",
     "text": [
      "Taxa de acerto: 79.2%\n"
     ]
    },
    {
     "data": {
      "image/png": "[encoded data removed]",
      "text/plain": [
       "<Figure size 1000x600 with 2 Axes>"
      ]
     },
     "metadata": {},
     "output_type": "display_data"
    }
   ],
   "source": [
    "raw_model(RandomForestClassifier)"
   ]
  },
  {
   "cell_type": "code",
   "execution_count": 54,
   "metadata": {},
   "outputs": [
    {
     "name": "stdout",
     "output_type": "stream",
     "text": [
      "Taxa de falso negativo: 24.5%\n"
     ]
    }
   ],
   "source": [
    "confusion_matrix_false_negative(37,12)"
   ]
  },
  {
   "cell_type": "markdown",
   "metadata": {},
   "source": [
    "Depois da seleção das features a acurácia do modelo aumentou de 78.3% para 79.2% e a taxa de falso positivo caiu de 28.6% para 24.5%."
   ]
  },
  {
   "cell_type": "markdown",
   "metadata": {},
   "source": [
    "Método 2"
   ]
  },
  {
   "cell_type": "code",
   "execution_count": 55,
   "metadata": {},
   "outputs": [
    {
     "name": "stdout",
     "output_type": "stream",
     "text": [
      "Acurácia média 74.9%\n",
      "Intervalo de acurácia: 64.8% - 85.1%\n"
     ]
    }
   ],
   "source": [
    "np.random.seed(5678)\n",
    "\n",
    "# embaralhando os dados:\n",
    "dados_xy = filtered_raw_data().sample(frac=1).reset_index(drop=True)\n",
    "\n",
    "y = dados_xy['ICU']\n",
    "x = dados_xy[dados_xy.columns].drop(columns=[column for column in filtered_raw_data().columns if column not in selected_x_columns])\n",
    "\n",
    "model = RandomForestClassifier()\n",
    "cv = RepeatedStratifiedKFold(n_splits=5, n_repeats=10)\n",
    "resultados = cross_validate(model, x, y, cv=cv, scoring='accuracy')['test_score']\n",
    "\n",
    "acuracia_media = resultados.mean()\n",
    "acuracia_std = resultados.std()\n",
    "print(f'Acurácia média {\"%.1f\" %(acuracia_media*100)}%')\n",
    "print(f'Intervalo de acurácia: {\"%.1f\" %((acuracia_media - 2*acuracia_std)*100)}% - {\"%.1f\" %((acuracia_media + 2*acuracia_std)*100)}%')"
   ]
  },
  {
   "cell_type": "markdown",
   "metadata": {},
   "source": [
    "Depois da seleção das features a acurácia média do modelo aumentou de 72.4% para 74.9%"
   ]
  },
  {
   "cell_type": "markdown",
   "metadata": {},
   "source": [
    "#### Selecionando os parâmetros"
   ]
  },
  {
   "cell_type": "markdown",
   "metadata": {},
   "source": [
    "Para selecionar os melhores parâmetros para o modelo utilizaremos o RandomizedSearchCV. Os parâmetros n_stimators, criterion, e max_depth serão analisados pelo RandomizedSearchCV e o best_estimator_ retornará a combinação de parâmetros com a maior acurácia. Posteriormente, a acurácia e a taxa de falso negativo serão comparadas com o resultado da seção anterior."
   ]
  },
  {
   "cell_type": "code",
   "execution_count": 56,
   "metadata": {},
   "outputs": [
    {
     "data": {
      "text/plain": [
       "RandomizedSearchCV(cv=StratifiedKFold(n_splits=5, random_state=None, shuffle=True),\n",
       "                   estimator=RandomForestClassifier(), n_iter=64,\n",
       "                   param_distributions={'criterion': ['gini', 'entropy'],\n",
       "                                        'max_depth': [None, 1, 2, 3, 4, 5],\n",
       "                                        'n_estimators': <scipy.stats._distn_infrastructure.rv_frozen object at 0x7fadb87e7d00>},\n",
       "                   scoring='accuracy')"
      ]
     },
     "execution_count": 56,
     "metadata": {},
     "output_type": "execute_result"
    }
   ],
   "source": [
    "np.random.seed(5678)\n",
    "\n",
    "parameters = {'n_estimators': randint(100,300), 'criterion': ['gini', 'entropy'],\n",
    "                    'max_depth': [None,1,2,3,4,5]}\n",
    "\n",
    "cv = StratifiedKFold(n_splits=5, shuffle=True)\n",
    "parameter_search = RandomizedSearchCV(RandomForestClassifier(), parameters, \n",
    "                                            cv = cv, n_iter=64, scoring='accuracy')\n",
    "parameter_search.fit(x, y)"
   ]
  },
  {
   "cell_type": "code",
   "execution_count": 57,
   "metadata": {},
   "outputs": [
    {
     "data": {
      "text/plain": [
       "RandomForestClassifier(max_depth=5, n_estimators=254)"
      ]
     },
     "execution_count": 57,
     "metadata": {},
     "output_type": "execute_result"
    }
   ],
   "source": [
    "parameter_search.best_estimator_"
   ]
  },
  {
   "cell_type": "markdown",
   "metadata": {},
   "source": [
    "Método 1"
   ]
  },
  {
   "cell_type": "code",
   "execution_count": 58,
   "metadata": {},
   "outputs": [
    {
     "name": "stdout",
     "output_type": "stream",
     "text": [
      "Taxa de acerto: 74.5%\n"
     ]
    },
    {
     "data": {
      "text/plain": [
       "<sklearn.metrics._plot.confusion_matrix.ConfusionMatrixDisplay at 0x7fadb883b880>"
      ]
     },
     "execution_count": 58,
     "metadata": {},
     "output_type": "execute_result"
    },
    {
     "data": {
      "image/png": "[encoded data removed]",
      "text/plain": [
       "<Figure size 1000x600 with 2 Axes>"
      ]
     },
     "metadata": {},
     "output_type": "display_data"
    }
   ],
   "source": [
    "np.random.seed(5678)\n",
    "model = RandomForestClassifier(max_depth=5, n_estimators=254)\n",
    "model.fit(x_train, y_train)\n",
    "y_prediction=model.predict(x_test)\n",
    "print(f'Taxa de acerto: {\"%.1f\" %(accuracy_score(y_test, y_prediction)*100)}%')\n",
    "plot_confusion_matrix(model, x_test, y_test)"
   ]
  },
  {
   "cell_type": "code",
   "execution_count": 59,
   "metadata": {},
   "outputs": [
    {
     "name": "stdout",
     "output_type": "stream",
     "text": [
      "Taxa de falso negativo: 30.6%\n"
     ]
    }
   ],
   "source": [
    "confusion_matrix_false_negative(34, 15)"
   ]
  },
  {
   "cell_type": "markdown",
   "metadata": {},
   "source": [
    "Depois da seleção dos parâmetros e das features a acurácia do modelo diminuiu para 74.5% e a taxa de falso positivo aumentou para 30.6%"
   ]
  },
  {
   "cell_type": "markdown",
   "metadata": {},
   "source": [
    "Método 2"
   ]
  },
  {
   "cell_type": "code",
   "execution_count": 60,
   "metadata": {},
   "outputs": [
    {
     "name": "stdout",
     "output_type": "stream",
     "text": [
      "Acurácia média 76.1%\n",
      "Intervalo de acurácia: 65.8% - 86.5%\n"
     ]
    }
   ],
   "source": [
    "np.random.seed(5678)\n",
    "\n",
    "# embaralhando os dados:\n",
    "dados_xy = filtered_raw_data().sample(frac=1).reset_index(drop=True)\n",
    "\n",
    "y = dados_xy['ICU']\n",
    "x = dados_xy[dados_xy.columns].drop(columns=[column for column in filtered_raw_data().columns if column not in selected_x_columns])\n",
    "\n",
    "model = RandomForestClassifier(max_depth=5, n_estimators=254)\n",
    "cv = RepeatedStratifiedKFold(n_splits=5, n_repeats=10)\n",
    "resultados = cross_validate(model, x, y, cv=cv, scoring='accuracy')['test_score']\n",
    "\n",
    "acuracia_media = resultados.mean()\n",
    "acuracia_std = resultados.std()\n",
    "print(f'Acurácia média {\"%.1f\" %(acuracia_media*100)}%')\n",
    "print(f'Intervalo de acurácia: {\"%.1f\" %((acuracia_media - 2*acuracia_std)*100)}% - {\"%.1f\" %((acuracia_media + 2*acuracia_std)*100)}%')"
   ]
  },
  {
   "cell_type": "markdown",
   "metadata": {},
   "source": [
    "Depois da seleção dos parâmetros e das features a acurácia média do modelo aumentou para 76.1%"
   ]
  },
  {
   "cell_type": "markdown",
   "metadata": {},
   "source": [
    "# Conclusão"
   ]
  },
  {
   "cell_type": "markdown",
   "metadata": {},
   "source": [
    "Neste projeto analisamos a base de dados do hospital Sírio-Libanês com o objetivo de prever se um paciente internado por COVID-19 precisará ou não de atendimento em UTI. Na primeira análise, sem o uso de modelos de machine learning, observamos que a faixa de idade do paciente podería ser um fator importante, e que o sexo masculino é mais internado do que o sexo feminino. Entretanto, resaltamos que a diferença no número de internação entre homens e mulheres pode ser por motivo socioeconomicos, por exemplo. Na segunda análise, usando modelos de machine learning, o algoritmo random forest foi o que obteve maior taxa de acurácia média por dois métodos de análise diferentes, cerca de 76% com intervalo de 65.8% a 86.5%, valor maior que o baseline de 53.8%, além disso, o modelo apresentou uma taxa de falso negativo de cerca de 30%, um valor menor quando comparado com o Dummy classifier, que apresentou uma taxa de falso negativo de 100%."
   ]
  },
  {
   "cell_type": "markdown",
   "metadata": {},
   "source": [
    "# Referências"
   ]
  },
  {
   "cell_type": "markdown",
   "metadata": {},
   "source": [
    "Base de dados: https://www.kaggle.com/S%C3%ADrio-Libanes/covid19\n",
    "\n",
    "[1] https://g1.globo.com/bemestar/coronavirus/noticia/2021/03/20/mortes-na-fila-por-um-leito-de-uti-falta-de-insumos-e-funerarias-sem-ferias-os-sinais-do-colapso-na-saude-brasileira.ghtml\n",
    "\n",
    "[2] https://scikit-learn.org/stable/\n",
    "\n",
    "[3] https://www.kaggle.com/S%C3%ADrio-Libanes/covid19/discussion/164019\n",
    "\n",
    "[4] https://www.bbc.com/portuguese/geral-52901162\n",
    "\n",
    "[5] https://www.cnnbrasil.com.br/saude/estudo-alta-carga-de-coronavirus-nos-pulmoes-tem-relacao-com-mortes-por-covid/"
   ]
  }
 ],
 "metadata": {
  "interpreter": {
   "hash": "916dbcbb3f70747c44a77c7bcd40155683ae19c65e1c03b4aa3499c5328201f1"
  },
  "kernelspec": {
   "display_name": "Python 3.8.10 64-bit",
   "language": "python",
   "name": "python3"
  },
  "language_info": {
   "codemirror_mode": {
    "name": "ipython",
    "version": 3
   },
   "file_extension": ".py",
   "mimetype": "text/x-python",
   "name": "python",
   "nbconvert_exporter": "python",
   "pygments_lexer": "ipython3",
   "version": "3.8.10"
  },
  "orig_nbformat": 4
 },
 "nbformat": 4,
 "nbformat_minor": 2
}
